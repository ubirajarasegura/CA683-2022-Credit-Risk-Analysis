{
  "cells": [
    {
      "cell_type": "markdown",
      "metadata": {
        "id": "view-in-github",
        "colab_type": "text"
      },
      "source": [
        "<a href=\"https://colab.research.google.com/github/ubirajarasegura/CA683-2022-Credit-Risk-Analysis/blob/main/analytics_final.ipynb\" target=\"_parent\"><img src=\"https://colab.research.google.com/assets/colab-badge.svg\" alt=\"Open In Colab\"/></a>"
      ]
    },
    {
      "cell_type": "code",
      "execution_count": null,
      "id": "4cc7a361",
      "metadata": {
        "id": "4cc7a361"
      },
      "outputs": [],
      "source": [
        "import pandas as pd\n",
        "import numpy as np\n",
        "import matplotlib.pyplot as plt\n",
        "import seaborn as sns\n",
        "%matplotlib inline\n",
        "\n",
        "from sklearn.linear_model import LinearRegression\n",
        "from sklearn.preprocessing import StandardScaler\n",
        "from sklearn.decomposition import PCA\n",
        "\n",
        "pd.set_option('display.max_rows', 500)\n",
        "pd.set_option('display.max_columns', 500)"
      ]
    },
    {
      "cell_type": "code",
      "execution_count": null,
      "id": "aecc1038",
      "metadata": {
        "id": "aecc1038"
      },
      "outputs": [],
      "source": [
        "df1 = pd.read_csv('application_data.csv', sep=',')\n",
        "df2 = pd.read_csv('previous_application.csv', sep=',')\n",
        "desc = pd.read_csv('columns_description.csv', sep=',', encoding='latin-1')"
      ]
    },
    {
      "cell_type": "code",
      "execution_count": null,
      "id": "7ad48f90",
      "metadata": {
        "scrolled": true,
        "colab": {
          "base_uri": "https://localhost:8080/"
        },
        "id": "7ad48f90",
        "outputId": "03beece5-d8a1-4a0d-e36b-4c398ad46024"
      },
      "outputs": [
        {
          "output_type": "execute_result",
          "data": {
            "text/plain": [
              "((307511, 122), (1670214, 37))"
            ]
          },
          "metadata": {},
          "execution_count": 3
        }
      ],
      "source": [
        "df1.shape,df2.shape"
      ]
    },
    {
      "cell_type": "code",
      "source": [
        "df1.SK_ID_CURR.isin(df2.SK_ID_CURR).mean()"
      ],
      "metadata": {
        "colab": {
          "base_uri": "https://localhost:8080/"
        },
        "id": "ozhZ81Bsua6W",
        "outputId": "1dc26f95-ca7c-4e30-e2b1-15072f5d2c66"
      },
      "id": "ozhZ81Bsua6W",
      "execution_count": null,
      "outputs": [
        {
          "output_type": "execute_result",
          "data": {
            "text/plain": [
              "0.9464929709831518"
            ]
          },
          "metadata": {},
          "execution_count": 4
        }
      ]
    },
    {
      "cell_type": "code",
      "execution_count": null,
      "id": "c2a00af9",
      "metadata": {
        "scrolled": true,
        "colab": {
          "base_uri": "https://localhost:8080/"
        },
        "id": "c2a00af9",
        "outputId": "bd4cdf3e-44cb-44aa-a91c-4198e3d0bf55"
      },
      "outputs": [
        {
          "output_type": "execute_result",
          "data": {
            "text/plain": [
              "COMMONAREA_MEDI                 0.698723\n",
              "COMMONAREA_AVG                  0.698723\n",
              "COMMONAREA_MODE                 0.698723\n",
              "NONLIVINGAPARTMENTS_AVG         0.694330\n",
              "NONLIVINGAPARTMENTS_MODE        0.694330\n",
              "NONLIVINGAPARTMENTS_MEDI        0.694330\n",
              "FONDKAPREMONT_MODE              0.683862\n",
              "LIVINGAPARTMENTS_AVG            0.683550\n",
              "LIVINGAPARTMENTS_MEDI           0.683550\n",
              "LIVINGAPARTMENTS_MODE           0.683550\n",
              "FLOORSMIN_AVG                   0.678486\n",
              "FLOORSMIN_MEDI                  0.678486\n",
              "FLOORSMIN_MODE                  0.678486\n",
              "YEARS_BUILD_AVG                 0.664978\n",
              "YEARS_BUILD_MEDI                0.664978\n",
              "YEARS_BUILD_MODE                0.664978\n",
              "OWN_CAR_AGE                     0.659908\n",
              "LANDAREA_AVG                    0.593767\n",
              "LANDAREA_MEDI                   0.593767\n",
              "LANDAREA_MODE                   0.593767\n",
              "BASEMENTAREA_MODE               0.585160\n",
              "BASEMENTAREA_AVG                0.585160\n",
              "BASEMENTAREA_MEDI               0.585160\n",
              "EXT_SOURCE_1                    0.563811\n",
              "NONLIVINGAREA_AVG               0.551792\n",
              "NONLIVINGAREA_MODE              0.551792\n",
              "NONLIVINGAREA_MEDI              0.551792\n",
              "ELEVATORS_MODE                  0.532960\n",
              "ELEVATORS_MEDI                  0.532960\n",
              "ELEVATORS_AVG                   0.532960\n",
              "WALLSMATERIAL_MODE              0.508408\n",
              "APARTMENTS_MEDI                 0.507497\n",
              "APARTMENTS_MODE                 0.507497\n",
              "APARTMENTS_AVG                  0.507497\n",
              "ENTRANCES_MODE                  0.503488\n",
              "ENTRANCES_AVG                   0.503488\n",
              "ENTRANCES_MEDI                  0.503488\n",
              "LIVINGAREA_MEDI                 0.501933\n",
              "LIVINGAREA_MODE                 0.501933\n",
              "LIVINGAREA_AVG                  0.501933\n",
              "HOUSETYPE_MODE                  0.501761\n",
              "FLOORSMAX_MODE                  0.497608\n",
              "FLOORSMAX_MEDI                  0.497608\n",
              "FLOORSMAX_AVG                   0.497608\n",
              "YEARS_BEGINEXPLUATATION_MEDI    0.487810\n",
              "YEARS_BEGINEXPLUATATION_MODE    0.487810\n",
              "YEARS_BEGINEXPLUATATION_AVG     0.487810\n",
              "TOTALAREA_MODE                  0.482685\n",
              "EMERGENCYSTATE_MODE             0.473983\n",
              "OCCUPATION_TYPE                 0.313455\n",
              "EXT_SOURCE_3                    0.198253\n",
              "AMT_REQ_CREDIT_BUREAU_YEAR      0.135016\n",
              "AMT_REQ_CREDIT_BUREAU_QRT       0.135016\n",
              "AMT_REQ_CREDIT_BUREAU_HOUR      0.135016\n",
              "AMT_REQ_CREDIT_BUREAU_DAY       0.135016\n",
              "AMT_REQ_CREDIT_BUREAU_WEEK      0.135016\n",
              "AMT_REQ_CREDIT_BUREAU_MON       0.135016\n",
              "NAME_TYPE_SUITE                 0.004201\n",
              "OBS_30_CNT_SOCIAL_CIRCLE        0.003320\n",
              "DEF_30_CNT_SOCIAL_CIRCLE        0.003320\n",
              "OBS_60_CNT_SOCIAL_CIRCLE        0.003320\n",
              "DEF_60_CNT_SOCIAL_CIRCLE        0.003320\n",
              "EXT_SOURCE_2                    0.002146\n",
              "AMT_GOODS_PRICE                 0.000904\n",
              "AMT_ANNUITY                     0.000039\n",
              "CNT_FAM_MEMBERS                 0.000007\n",
              "DAYS_LAST_PHONE_CHANGE          0.000003\n",
              "dtype: float64"
            ]
          },
          "metadata": {},
          "execution_count": 5
        }
      ],
      "source": [
        "#There are a lot of NAN instances, we are dropping them because we are interested in finding relevant features \n",
        "df1.isna().mean()[df1.isna().mean()>0].sort_values(ascending=False)"
      ]
    },
    {
      "cell_type": "code",
      "execution_count": null,
      "id": "5122948e",
      "metadata": {
        "id": "5122948e"
      },
      "outputs": [],
      "source": [
        "pd.set_option('display.max_colwidth', -1)\n",
        "desc[['Row','Description']]"
      ]
    },
    {
      "cell_type": "code",
      "source": [
        "df_docs = df1[['FLAG_DOCUMENT_16','FLAG_DOCUMENT_13','FLAG_DOCUMENT_6','FLAG_DOCUMENT_14'\n",
        "                ,'FLAG_DOCUMENT_8','FLAG_DOCUMENT_18','FLAG_DOCUMENT_15','FLAG_DOCUMENT_9','FLAG_DOCUMENT_11'\n",
        "                ,'FLAG_DOCUMENT_17','FLAG_DOCUMENT_14','FLAG_DOCUMENT_7','FLAG_DOCUMENT_10','FLAG_DOCUMENT_19','FLAG_DOCUMENT_4'\n",
        "                ,'FLAG_DOCUMENT_12','FLAG_DOCUMENT_5','FLAG_DOCUMENT_20','FLAG_DOCUMENT_21','FLAG_DOCUMENT_2','FLAG_DOCUMENT_3'        \n",
        "                ]]\n",
        "\n",
        "df1.drop(columns=['FLAG_DOCUMENT_16','FLAG_DOCUMENT_13','FLAG_DOCUMENT_6','FLAG_DOCUMENT_14','FLAG_DOCUMENT_4'\n",
        "                ,'FLAG_DOCUMENT_8','FLAG_DOCUMENT_18','FLAG_DOCUMENT_15','FLAG_DOCUMENT_9','FLAG_DOCUMENT_11'\n",
        "                ,'FLAG_DOCUMENT_17','FLAG_DOCUMENT_7','FLAG_DOCUMENT_10','FLAG_DOCUMENT_19','FLAG_DOCUMENT_3'    \n",
        "                ,'FLAG_DOCUMENT_12','FLAG_DOCUMENT_5','FLAG_DOCUMENT_20','FLAG_DOCUMENT_21','FLAG_DOCUMENT_2'   \n",
        "                ],inplace=True)"
      ],
      "metadata": {
        "id": "uDXMnlRlfrIB"
      },
      "id": "uDXMnlRlfrIB",
      "execution_count": null,
      "outputs": []
    },
    {
      "cell_type": "code",
      "source": [
        "scaled_data = StandardScaler().fit(df_docs).transform(df_docs)\n",
        "pca = PCA(n_components=1).fit(scaled_data)\n",
        "x_pca = pca.transform(scaled_data)\n",
        "\n",
        "plt.figure(figsize=(6,4))\n",
        "plt.scatter(x_pca[:], df1['TARGET'],c=df1['TARGET'],cmap='plasma')\n",
        "plt.xlabel('PCA')\n",
        "plt.ylabel('TARGET Column')\n",
        "\n",
        "plt.figure(figsize=(12,1)).tight_layout()\n",
        "sns.heatmap(pd.DataFrame(pca.components_,columns=df_docs.columns)\n",
        "            ,cmap='plasma',)\n",
        "\n",
        "df1['DOCS'] = x_pca"
      ],
      "metadata": {
        "colab": {
          "base_uri": "https://localhost:8080/",
          "height": 461
        },
        "id": "6NyxPyMHi273",
        "outputId": "be1cb224-dfc0-441c-84bc-8f3560e1642d"
      },
      "id": "6NyxPyMHi273",
      "execution_count": null,
      "outputs": [
        {
          "output_type": "display_data",
          "data": {
            "image/png": "[encoded data removed]",
            "text/plain": [
              "<Figure size 432x288 with 1 Axes>"
            ]
          },
          "metadata": {
            "needs_background": "light"
          }
        },
        {
          "output_type": "display_data",
          "data": {
            "image/png": "[encoded data removed]",
            "text/plain": [
              "<Figure size 864x72 with 2 Axes>"
            ]
          },
          "metadata": {
            "needs_background": "light"
          }
        }
      ]
    },
    {
      "cell_type": "code",
      "source": [
        "#PCA on REGIONS\n",
        "df_reg = df1[['REGION_RATING_CLIENT_W_CITY','REGION_RATING_CLIENT'\n",
        "              ,'REG_CITY_NOT_LIVE_CITY','LIVE_CITY_NOT_WORK_CITY'\n",
        "              ,'REG_REGION_NOT_WORK_REGION','REG_REGION_NOT_LIVE_REGION'\n",
        "            ]]\n",
        "\n",
        "df1.drop(columns=['REGION_RATING_CLIENT_W_CITY','REGION_RATING_CLIENT'\n",
        "                  ,'REG_CITY_NOT_LIVE_CITY','LIVE_CITY_NOT_WORK_CITY'\n",
        "                  ,'REG_REGION_NOT_WORK_REGION','REG_REGION_NOT_LIVE_REGION'    \n",
        "                 ]\n",
        "         ,inplace=True)\n",
        "\n",
        "scaled_data = StandardScaler().fit(df_reg).transform(df_reg)\n",
        "pca = PCA(n_components=1).fit(scaled_data)\n",
        "x_pca = pca.transform(scaled_data)\n",
        "\n",
        "plt.figure(figsize=(6,4))\n",
        "plt.scatter(x_pca[:], df1['TARGET'],c=df1['TARGET'],cmap='plasma')\n",
        "plt.xlabel('PCA')\n",
        "plt.ylabel('TARGET Column')\n",
        "\n",
        "plt.figure(figsize=(12,1))\n",
        "sns.heatmap(pd.DataFrame(pca.components_,columns=df_reg.columns)\n",
        "            ,cmap='plasma',)\n",
        "\n",
        "df1['REG'] = x_pca"
      ],
      "metadata": {
        "colab": {
          "base_uri": "https://localhost:8080/",
          "height": 525
        },
        "id": "8jn8Ii0mDVzw",
        "outputId": "9358cad5-8721-4268-871a-9bf89b0bf7f3"
      },
      "id": "8jn8Ii0mDVzw",
      "execution_count": null,
      "outputs": [
        {
          "output_type": "display_data",
          "data": {
            "image/png": "[encoded data removed]",
            "text/plain": [
              "<Figure size 432x288 with 1 Axes>"
            ]
          },
          "metadata": {
            "needs_background": "light"
          }
        },
        {
          "output_type": "display_data",
          "data": {
            "image/png": "[encoded data removed]",
            "text/plain": [
              "<Figure size 864x72 with 2 Axes>"
            ]
          },
          "metadata": {
            "needs_background": "light"
          }
        }
      ]
    },
    {
      "cell_type": "code",
      "source": [
        "#PCA on PHONE FLAGS\n",
        "\n",
        "df1.dropna(subset=['DAYS_LAST_PHONE_CHANGE'],inplace=True)\n",
        "\n",
        "df_phone = df1[['DAYS_LAST_PHONE_CHANGE','DAYS_ID_PUBLISH'\n",
        "              ,'DAYS_REGISTRATION','FLAG_EMP_PHONE','FLAG_PHONE'\n",
        "              ,'FLAG_WORK_PHONE','FLAG_MOBIL','FLAG_CONT_MOBILE'\n",
        "            ]]\n",
        "\n",
        "df1.drop(columns=['DAYS_LAST_PHONE_CHANGE','DAYS_ID_PUBLISH'\n",
        "              ,'DAYS_REGISTRATION','FLAG_EMP_PHONE','FLAG_PHONE'\n",
        "              ,'FLAG_WORK_PHONE','FLAG_MOBIL','FLAG_CONT_MOBILE'\n",
        "                ]\n",
        "          ,inplace=True)\n",
        "\n",
        "scaled_data = StandardScaler().fit(df_phone).transform(df_phone)\n",
        "pca = PCA(n_components=1).fit(scaled_data)\n",
        "x_pca = pca.transform(scaled_data)\n",
        "\n",
        "plt.figure(figsize=(6,4))\n",
        "plt.scatter(x_pca[:], df1['TARGET'],c=df1['TARGET'],cmap='plasma')\n",
        "plt.xlabel('PCA')\n",
        "plt.ylabel('TARGET Column')\n",
        "\n",
        "plt.figure(figsize=(12,1))\n",
        "sns.heatmap(pd.DataFrame(pca.components_,columns=df_phone.columns)\n",
        "            ,cmap='plasma',)\n",
        "\n",
        "df1['PHONE'] = x_pca"
      ],
      "metadata": {
        "colab": {
          "base_uri": "https://localhost:8080/",
          "height": 502
        },
        "id": "OyEpnIEDRAJJ",
        "outputId": "63eed61e-6297-4e49-e4cf-cc25c46c63f5"
      },
      "id": "OyEpnIEDRAJJ",
      "execution_count": null,
      "outputs": [
        {
          "output_type": "display_data",
          "data": {
            "image/png": "[encoded data removed]",
            "text/plain": [
              "<Figure size 432x288 with 1 Axes>"
            ]
          },
          "metadata": {
            "needs_background": "light"
          }
        },
        {
          "output_type": "display_data",
          "data": {
            "image/png": "[encoded data removed]",
            "text/plain": [
              "<Figure size 864x72 with 2 Axes>"
            ]
          },
          "metadata": {
            "needs_background": "light"
          }
        }
      ]
    },
    {
      "cell_type": "code",
      "source": [
        "df_soc_circle =df1[['DEF_30_CNT_SOCIAL_CIRCLE', 'DEF_60_CNT_SOCIAL_CIRCLE'\n",
        "                  , 'OBS_30_CNT_SOCIAL_CIRCLE', 'OBS_60_CNT_SOCIAL_CIRCLE'\n",
        "                  ,'AMT_ANNUITY', 'AMT_CREDIT','EXT_SOURCE_2','DAYS_EMPLOYED','CNT_FAM_MEMBERS']]     \n",
        "\n",
        "df_soc_circle.AMT_ANNUITY.fillna(27108.58, inplace=True)\n",
        "df_soc_circle.EXT_SOURCE_2.fillna(0.5144, inplace=True)\n",
        "df_soc_circle.CNT_FAM_MEMBERS.fillna(2.15, inplace=True)"
      ],
      "metadata": {
        "colab": {
          "base_uri": "https://localhost:8080/"
        },
        "id": "Fdci0-9Udtrd",
        "outputId": "c5d57515-ead5-4714-d2a0-69532a71f415"
      },
      "id": "Fdci0-9Udtrd",
      "execution_count": null,
      "outputs": [
        {
          "output_type": "stream",
          "name": "stderr",
          "text": [
            "/usr/local/lib/python3.7/dist-packages/pandas/core/series.py:4536: SettingWithCopyWarning: \n",
            "A value is trying to be set on a copy of a slice from a DataFrame\n",
            "\n",
            "See the caveats in the documentation: https://pandas.pydata.org/pandas-docs/stable/user_guide/indexing.html#returning-a-view-versus-a-copy\n",
            "  downcast=downcast,\n"
          ]
        }
      ]
    },
    {
      "cell_type": "code",
      "source": [
        "#FE on DEF_30_CNT_SOCIAL_CIRCLE\n",
        "\n",
        "X_train = df_soc_circle.dropna()[['AMT_ANNUITY', 'AMT_CREDIT','EXT_SOURCE_2'\n",
        "                                  ,'DAYS_EMPLOYED','CNT_FAM_MEMBERS']]\n",
        "y_train = df_soc_circle.dropna()['DEF_30_CNT_SOCIAL_CIRCLE']\n",
        "X_test = df_soc_circle[df_soc_circle.DEF_30_CNT_SOCIAL_CIRCLE.isna()==True][['AMT_ANNUITY', 'AMT_CREDIT','EXT_SOURCE_2'\n",
        "                                                                            ,'DAYS_EMPLOYED','CNT_FAM_MEMBERS']]\n",
        "\n",
        "y_test = df_soc_circle[df_soc_circle.DEF_30_CNT_SOCIAL_CIRCLE.isna()==True]['DEF_30_CNT_SOCIAL_CIRCLE']\n",
        "\n",
        "#importing linear regression from SK Learn\n",
        "from sklearn.linear_model import LinearRegression\n",
        "lm = LinearRegression()\n",
        "lm.fit(X_train,y_train)\n",
        "\n",
        "df1.loc[\n",
        "          df1.DEF_30_CNT_SOCIAL_CIRCLE.isna()==True, ['DEF_30_CNT_SOCIAL_CIRCLE']\n",
        "         ]  = lm.predict(X_test)"
      ],
      "metadata": {
        "id": "wVaZcfD-UiST"
      },
      "id": "wVaZcfD-UiST",
      "execution_count": null,
      "outputs": []
    },
    {
      "cell_type": "code",
      "source": [
        "#FE on DEF_60_CNT_SOCIAL_CIRCLE\n",
        "\n",
        "X_train = df_soc_circle.dropna()[['AMT_ANNUITY', 'AMT_CREDIT','EXT_SOURCE_2'\n",
        "                                  ,'DAYS_EMPLOYED','CNT_FAM_MEMBERS']]\n",
        "y_train = df_soc_circle.dropna()['DEF_60_CNT_SOCIAL_CIRCLE']\n",
        "X_test = df_soc_circle[df_soc_circle.DEF_60_CNT_SOCIAL_CIRCLE.isna()==True][['AMT_ANNUITY', 'AMT_CREDIT','EXT_SOURCE_2'\n",
        "                                                                            ,'DAYS_EMPLOYED','CNT_FAM_MEMBERS']]\n",
        "\n",
        "y_test = df_soc_circle[df_soc_circle.DEF_60_CNT_SOCIAL_CIRCLE.isna()==True]['DEF_60_CNT_SOCIAL_CIRCLE']\n",
        "\n",
        "#importing linear regression from SK Learn\n",
        "from sklearn.linear_model import LinearRegression\n",
        "lm = LinearRegression()\n",
        "lm.fit(X_train,y_train)\n",
        "\n",
        "df1.loc[\n",
        "          df1.DEF_60_CNT_SOCIAL_CIRCLE.isna()==True, ['DEF_60_CNT_SOCIAL_CIRCLE']\n",
        "         ]  = lm.predict(X_test)"
      ],
      "metadata": {
        "id": "36AmD5XFlBbI"
      },
      "id": "36AmD5XFlBbI",
      "execution_count": null,
      "outputs": []
    },
    {
      "cell_type": "code",
      "source": [
        "#FE on OBS_30_CNT_SOCIAL_CIRCLE\n",
        "\n",
        "X_train = df_soc_circle.dropna()[['AMT_ANNUITY', 'AMT_CREDIT','EXT_SOURCE_2'\n",
        "                                  ,'DAYS_EMPLOYED','CNT_FAM_MEMBERS']]\n",
        "y_train = df_soc_circle.dropna()['OBS_30_CNT_SOCIAL_CIRCLE']\n",
        "X_test = df_soc_circle[df_soc_circle.OBS_30_CNT_SOCIAL_CIRCLE.isna()==True][['AMT_ANNUITY', 'AMT_CREDIT','EXT_SOURCE_2'\n",
        "                                                                            ,'DAYS_EMPLOYED','CNT_FAM_MEMBERS']]\n",
        "\n",
        "y_test = df_soc_circle[df_soc_circle.OBS_30_CNT_SOCIAL_CIRCLE.isna()==True]['OBS_30_CNT_SOCIAL_CIRCLE']\n",
        "\n",
        "#importing linear regression from SK Learn\n",
        "from sklearn.linear_model import LinearRegression\n",
        "lm = LinearRegression()\n",
        "lm.fit(X_train,y_train)\n",
        "\n",
        "df1.loc[\n",
        "          df1.OBS_30_CNT_SOCIAL_CIRCLE.isna()==True, ['OBS_30_CNT_SOCIAL_CIRCLE']\n",
        "         ]  = lm.predict(X_test)"
      ],
      "metadata": {
        "id": "k3dbdfBFlLZv"
      },
      "id": "k3dbdfBFlLZv",
      "execution_count": null,
      "outputs": []
    },
    {
      "cell_type": "code",
      "source": [
        "#FE on OBS_60_CNT_SOCIAL_CIRCLE\n",
        "\n",
        "X_train = df_soc_circle.dropna()[['AMT_ANNUITY', 'AMT_CREDIT','EXT_SOURCE_2'\n",
        "                                  ,'DAYS_EMPLOYED','CNT_FAM_MEMBERS']]\n",
        "y_train = df_soc_circle.dropna()['OBS_60_CNT_SOCIAL_CIRCLE']\n",
        "X_test = df_soc_circle[df_soc_circle.OBS_60_CNT_SOCIAL_CIRCLE.isna()==True][['AMT_ANNUITY', 'AMT_CREDIT','EXT_SOURCE_2'\n",
        "                                                                            ,'DAYS_EMPLOYED','CNT_FAM_MEMBERS']]\n",
        "\n",
        "y_test = df_soc_circle[df_soc_circle.OBS_60_CNT_SOCIAL_CIRCLE.isna()==True]['OBS_60_CNT_SOCIAL_CIRCLE']\n",
        "\n",
        "#importing linear regression from SK Learn\n",
        "from sklearn.linear_model import LinearRegression\n",
        "lm = LinearRegression()\n",
        "lm.fit(X_train,y_train)\n",
        "\n",
        "df1.loc[\n",
        "          df1.OBS_60_CNT_SOCIAL_CIRCLE.isna()==True, ['OBS_60_CNT_SOCIAL_CIRCLE']\n",
        "         ]  = lm.predict(X_test)"
      ],
      "metadata": {
        "id": "FwJM_KydlMyf"
      },
      "id": "FwJM_KydlMyf",
      "execution_count": null,
      "outputs": []
    },
    {
      "cell_type": "code",
      "source": [
        "#PCA on SOCIAL_CIRCLE\n",
        "\n",
        "df_SC = df1[['DEF_30_CNT_SOCIAL_CIRCLE', 'DEF_60_CNT_SOCIAL_CIRCLE'\n",
        "            , 'OBS_30_CNT_SOCIAL_CIRCLE', 'OBS_60_CNT_SOCIAL_CIRCLE']]\n",
        "\n",
        "df1.drop(columns=['DEF_30_CNT_SOCIAL_CIRCLE','DEF_30_CNT_SOCIAL_CIRCLE'\n",
        "              ,'DEF_30_CNT_SOCIAL_CIRCLE','DEF_30_CNT_SOCIAL_CIRCLE']\n",
        "          ,inplace=True)\n",
        "\n",
        "scaled_data = StandardScaler().fit(df_SC).transform(df_SC)\n",
        "pca = PCA(n_components=1).fit(scaled_data)\n",
        "x_pca = pca.transform(scaled_data)\n",
        "\n",
        "plt.figure(figsize=(6,4))\n",
        "plt.scatter(x_pca[:], df1['TARGET'],c=df1['TARGET'],cmap='plasma')\n",
        "plt.xlabel('PCA')\n",
        "plt.ylabel('TARGET Column')\n",
        "\n",
        "plt.figure(figsize=(12,1))\n",
        "sns.heatmap(pd.DataFrame(pca.components_,columns=df_SC.columns)\n",
        "            ,cmap='plasma',)\n",
        "\n",
        "df1['SOCIAL_CIRCLE_DEF'] = x_pca"
      ],
      "metadata": {
        "colab": {
          "base_uri": "https://localhost:8080/",
          "height": 500
        },
        "id": "FpAz43WenANX",
        "outputId": "da2c5a31-672e-4d88-df10-073784b3b49c"
      },
      "id": "FpAz43WenANX",
      "execution_count": null,
      "outputs": [
        {
          "output_type": "display_data",
          "data": {
            "image/png": "[encoded data removed]",
            "text/plain": [
              "<Figure size 432x288 with 1 Axes>"
            ]
          },
          "metadata": {
            "needs_background": "light"
          }
        },
        {
          "output_type": "display_data",
          "data": {
            "image/png": "[encoded data removed]",
            "text/plain": [
              "<Figure size 864x72 with 2 Axes>"
            ]
          },
          "metadata": {
            "needs_background": "light"
          }
        }
      ]
    },
    {
      "cell_type": "code",
      "source": [
        "#Não há nada fortemente correlacionado, NAN realmente é missing\n",
        "df1[df1.AMT_REQ_CREDIT_BUREAU_YEAR.isna()==True]['AMT_REQ_CREDIT_BUREAU_YEAR'] =  1.9\n",
        "\n",
        "df1.drop(columns=['AMT_REQ_CREDIT_BUREAU_HOUR','AMT_REQ_CREDIT_BUREAU_DAY','AMT_REQ_CREDIT_BUREAU_WEEK',\n",
        "                  'AMT_REQ_CREDIT_BUREAU_MON','AMT_REQ_CREDIT_BUREAU_QRT'],inplace=True)"
      ],
      "metadata": {
        "colab": {
          "base_uri": "https://localhost:8080/"
        },
        "id": "5UJxTlNStowL",
        "outputId": "f3038c05-da27-4a99-99f1-c039fadd285c"
      },
      "id": "5UJxTlNStowL",
      "execution_count": null,
      "outputs": [
        {
          "output_type": "stream",
          "name": "stderr",
          "text": [
            "/usr/local/lib/python3.7/dist-packages/ipykernel_launcher.py:2: SettingWithCopyWarning: \n",
            "A value is trying to be set on a copy of a slice from a DataFrame.\n",
            "Try using .loc[row_indexer,col_indexer] = value instead\n",
            "\n",
            "See the caveats in the documentation: https://pandas.pydata.org/pandas-docs/stable/user_guide/indexing.html#returning-a-view-versus-a-copy\n",
            "  \n"
          ]
        }
      ]
    },
    {
      "cell_type": "code",
      "source": [
        "df_build =df1[['LANDAREA_MODE', 'NONLIVINGAREA_MODE', 'COMMONAREA_MODE','ENTRANCES_MODE',\n",
        "               'BASEMENTAREA_MODE','YEARS_BUILD_MODE','LIVINGAPARTMENTS_MODE','FLOORSMAX_MODE'\n",
        "               ]]     \n",
        "\n",
        "df1.drop(columns=['LANDAREA_AVG','LANDAREA_MEDI','NONLIVINGAREA_MEDI'\n",
        "                  ,'NONLIVINGAREA_AVG','COMMONAREA_AVG','COMMONAREA_MEDI'\n",
        "                  ,'ENTRANCES_MEDI','ENTRANCES_AVG','BASEMENTAREA_MEDI'\n",
        "                  ,'BASEMENTAREA_AVG','LIVINGAPARTMENTS_MEDI','LIVINGAPARTMENTS_AVG'\n",
        "               ],inplace=True)                \n",
        "\n",
        "df_build.NONLIVINGAREA_MODE.fillna(0.0270, inplace=True)\n",
        "df_build.COMMONAREA_MODE.fillna(0.0426, inplace=True)\n",
        "df_build.ENTRANCES_MODE.fillna(0.1452, inplace=True)\n",
        "df_build.BASEMENTAREA_MODE.fillna(0.0875, inplace=True)\n",
        "df_build.YEARS_BUILD_MODE.fillna(0.7596, inplace=True)\n",
        "df_build.LIVINGAPARTMENTS_MODE.fillna(0.1056, inplace=True)\n",
        "df_build.FLOORSMAX_MODE.fillna(0.2223, inplace=True)"
      ],
      "metadata": {
        "colab": {
          "base_uri": "https://localhost:8080/"
        },
        "id": "ncYeuXqbwIAq",
        "outputId": "31421caa-5c78-4850-d956-64571542be71"
      },
      "id": "ncYeuXqbwIAq",
      "execution_count": null,
      "outputs": [
        {
          "output_type": "stream",
          "name": "stderr",
          "text": [
            "/usr/local/lib/python3.7/dist-packages/pandas/core/series.py:4536: SettingWithCopyWarning: \n",
            "A value is trying to be set on a copy of a slice from a DataFrame\n",
            "\n",
            "See the caveats in the documentation: https://pandas.pydata.org/pandas-docs/stable/user_guide/indexing.html#returning-a-view-versus-a-copy\n",
            "  downcast=downcast,\n"
          ]
        }
      ]
    },
    {
      "cell_type": "code",
      "source": [
        "#FE on LANDAREA_MODE\n",
        "\n",
        "X_train = df_build.dropna().drop(columns='LANDAREA_MODE')\n",
        "y_train = df_build.dropna()['LANDAREA_MODE']\n",
        "X_test = df_build[df_build.LANDAREA_MODE.isna()==True].drop(columns='LANDAREA_MODE')\n",
        "\n",
        "#importing linear regression from SK Learn\n",
        "lm = LinearRegression()\n",
        "lm.fit(X_train,y_train)\n",
        "\n",
        "df1.loc[\n",
        "          df1.LANDAREA_MODE.isna()==True, ['LANDAREA_MODE']\n",
        "         ]  = lm.predict(X_test)"
      ],
      "metadata": {
        "id": "cR0BoHbz21pk"
      },
      "id": "cR0BoHbz21pk",
      "execution_count": null,
      "outputs": []
    },
    {
      "cell_type": "code",
      "source": [
        "#FE on NONLIVINGAREA_MODE\n",
        "\n",
        "X_train = df_build.dropna().drop(columns='NONLIVINGAREA_MODE')\n",
        "y_train = df_build.dropna()['NONLIVINGAREA_MODE']\n",
        "\n",
        "df_build =df1[['LANDAREA_MODE', 'NONLIVINGAREA_MODE', 'COMMONAREA_MODE','ENTRANCES_MODE',\n",
        "               'BASEMENTAREA_MODE','YEARS_BUILD_MODE','LIVINGAPARTMENTS_MODE','FLOORSMAX_MODE'\n",
        "               ]] \n",
        "\n",
        "df_build.COMMONAREA_MODE.fillna(0.0426, inplace=True)\n",
        "df_build.ENTRANCES_MODE.fillna(0.1452, inplace=True)\n",
        "df_build.BASEMENTAREA_MODE.fillna(0.0875, inplace=True)\n",
        "df_build.YEARS_BUILD_MODE.fillna(0.7596, inplace=True)\n",
        "df_build.LIVINGAPARTMENTS_MODE.fillna(0.1056, inplace=True)\n",
        "df_build.FLOORSMAX_MODE.fillna(0.2223, inplace=True)\n",
        "\n",
        "X_test = df_build[df_build.NONLIVINGAREA_MODE.isna()==True].drop(columns='NONLIVINGAREA_MODE')\n",
        "\n",
        "#importing linear regression from SK Learn\n",
        "lm = LinearRegression()\n",
        "lm.fit(X_train,y_train)\n",
        "\n",
        "df1.loc[\n",
        "          df1.NONLIVINGAREA_MODE.isna()==True, ['NONLIVINGAREA_MODE']\n",
        "         ]  = lm.predict(X_test)"
      ],
      "metadata": {
        "colab": {
          "base_uri": "https://localhost:8080/"
        },
        "id": "UX8o4Obt_dMX",
        "outputId": "0e1dd74d-5680-4f63-8940-20304d6b1d87"
      },
      "id": "UX8o4Obt_dMX",
      "execution_count": null,
      "outputs": [
        {
          "output_type": "stream",
          "name": "stderr",
          "text": [
            "/usr/local/lib/python3.7/dist-packages/pandas/core/series.py:4536: SettingWithCopyWarning: \n",
            "A value is trying to be set on a copy of a slice from a DataFrame\n",
            "\n",
            "See the caveats in the documentation: https://pandas.pydata.org/pandas-docs/stable/user_guide/indexing.html#returning-a-view-versus-a-copy\n",
            "  downcast=downcast,\n"
          ]
        }
      ]
    },
    {
      "cell_type": "code",
      "source": [
        "#FE on NONLIVINGAREA_MODE\n",
        "\n",
        "X_train = df_build.dropna().drop(columns='COMMONAREA_MODE')\n",
        "y_train = df_build.dropna()['COMMONAREA_MODE']\n",
        "\n",
        "df_build =df1[['LANDAREA_MODE', 'NONLIVINGAREA_MODE', 'COMMONAREA_MODE','ENTRANCES_MODE',\n",
        "               'BASEMENTAREA_MODE','YEARS_BUILD_MODE','LIVINGAPARTMENTS_MODE','FLOORSMAX_MODE'\n",
        "               ]] \n",
        "               \n",
        "df_build.ENTRANCES_MODE.fillna(0.1452, inplace=True)\n",
        "df_build.BASEMENTAREA_MODE.fillna(0.0875, inplace=True)\n",
        "df_build.YEARS_BUILD_MODE.fillna(0.7596, inplace=True)\n",
        "df_build.LIVINGAPARTMENTS_MODE.fillna(0.1056, inplace=True)\n",
        "df_build.FLOORSMAX_MODE.fillna(0.2223, inplace=True)\n",
        "\n",
        "X_test = df_build[df_build.COMMONAREA_MODE.isna()==True].drop(columns='COMMONAREA_MODE')\n",
        "\n",
        "#importing linear regression from SK Learn\n",
        "lm = LinearRegression()\n",
        "lm.fit(X_train,y_train)\n",
        "\n",
        "df1.loc[\n",
        "          df1.COMMONAREA_MODE.isna()==True, ['COMMONAREA_MODE']\n",
        "         ]  = lm.predict(X_test)"
      ],
      "metadata": {
        "colab": {
          "base_uri": "https://localhost:8080/"
        },
        "id": "Y9VS0O__HHXo",
        "outputId": "f9e5451c-e56a-4d5a-b882-87076043fcf0"
      },
      "id": "Y9VS0O__HHXo",
      "execution_count": null,
      "outputs": [
        {
          "output_type": "stream",
          "name": "stderr",
          "text": [
            "/usr/local/lib/python3.7/dist-packages/pandas/core/series.py:4536: SettingWithCopyWarning: \n",
            "A value is trying to be set on a copy of a slice from a DataFrame\n",
            "\n",
            "See the caveats in the documentation: https://pandas.pydata.org/pandas-docs/stable/user_guide/indexing.html#returning-a-view-versus-a-copy\n",
            "  downcast=downcast,\n"
          ]
        }
      ]
    },
    {
      "cell_type": "code",
      "source": [
        "#FE on NONLIVINGAREA_MODE\n",
        "\n",
        "X_train = df_build.dropna().drop(columns='ENTRANCES_MODE')\n",
        "y_train = df_build.dropna()['ENTRANCES_MODE']\n",
        "\n",
        "df_build =df1[['LANDAREA_MODE', 'NONLIVINGAREA_MODE', 'COMMONAREA_MODE','ENTRANCES_MODE',\n",
        "               'BASEMENTAREA_MODE','YEARS_BUILD_MODE','LIVINGAPARTMENTS_MODE','FLOORSMAX_MODE'\n",
        "               ]] \n",
        "\n",
        "df_build.BASEMENTAREA_MODE.fillna(0.0875, inplace=True)\n",
        "df_build.YEARS_BUILD_MODE.fillna(0.7596, inplace=True)\n",
        "df_build.LIVINGAPARTMENTS_MODE.fillna(0.1056, inplace=True)\n",
        "df_build.FLOORSMAX_MODE.fillna(0.2223, inplace=True)\n",
        "\n",
        "X_test = df_build[df_build.ENTRANCES_MODE.isna()==True].drop(columns='ENTRANCES_MODE')\n",
        "\n",
        "#importing linear regression from SK Learn\n",
        "lm = LinearRegression()\n",
        "lm.fit(X_train,y_train)\n",
        "\n",
        "df1.loc[\n",
        "          df1.ENTRANCES_MODE.isna()==True, ['ENTRANCES_MODE']\n",
        "         ]  = lm.predict(X_test)"
      ],
      "metadata": {
        "colab": {
          "base_uri": "https://localhost:8080/"
        },
        "id": "WrLSHX9PHgW_",
        "outputId": "c7f5213a-1a6e-4589-aec4-b708f105d7a7"
      },
      "id": "WrLSHX9PHgW_",
      "execution_count": null,
      "outputs": [
        {
          "output_type": "stream",
          "name": "stderr",
          "text": [
            "/usr/local/lib/python3.7/dist-packages/pandas/core/series.py:4536: SettingWithCopyWarning: \n",
            "A value is trying to be set on a copy of a slice from a DataFrame\n",
            "\n",
            "See the caveats in the documentation: https://pandas.pydata.org/pandas-docs/stable/user_guide/indexing.html#returning-a-view-versus-a-copy\n",
            "  downcast=downcast,\n"
          ]
        }
      ]
    },
    {
      "cell_type": "code",
      "source": [
        "#FE on NONLIVINGAREA_MODE\n",
        "\n",
        "X_train = df_build.dropna().drop(columns='BASEMENTAREA_MODE')\n",
        "y_train = df_build.dropna()['BASEMENTAREA_MODE']\n",
        "\n",
        "df_build =df1[['LANDAREA_MODE', 'NONLIVINGAREA_MODE', 'COMMONAREA_MODE','ENTRANCES_MODE',\n",
        "               'BASEMENTAREA_MODE','YEARS_BUILD_MODE','LIVINGAPARTMENTS_MODE','FLOORSMAX_MODE'\n",
        "               ]] \n",
        "               \n",
        "df_build.YEARS_BUILD_MODE.fillna(0.7596, inplace=True)\n",
        "df_build.LIVINGAPARTMENTS_MODE.fillna(0.1056, inplace=True)\n",
        "df_build.FLOORSMAX_MODE.fillna(0.2223, inplace=True)\n",
        "\n",
        "X_test = df_build[df_build.BASEMENTAREA_MODE.isna()==True].drop(columns='BASEMENTAREA_MODE')\n",
        "\n",
        "#importing linear regression from SK Learn\n",
        "lm = LinearRegression()\n",
        "lm.fit(X_train,y_train)\n",
        "\n",
        "df1.loc[\n",
        "          df1.BASEMENTAREA_MODE.isna()==True, ['BASEMENTAREA_MODE']\n",
        "         ]  = lm.predict(X_test)"
      ],
      "metadata": {
        "colab": {
          "base_uri": "https://localhost:8080/"
        },
        "id": "AnvgunVbHgs3",
        "outputId": "e06e7ab0-e883-4dc6-d22c-78e7d259f0c2"
      },
      "id": "AnvgunVbHgs3",
      "execution_count": null,
      "outputs": [
        {
          "output_type": "stream",
          "name": "stderr",
          "text": [
            "/usr/local/lib/python3.7/dist-packages/pandas/core/series.py:4536: SettingWithCopyWarning: \n",
            "A value is trying to be set on a copy of a slice from a DataFrame\n",
            "\n",
            "See the caveats in the documentation: https://pandas.pydata.org/pandas-docs/stable/user_guide/indexing.html#returning-a-view-versus-a-copy\n",
            "  downcast=downcast,\n"
          ]
        }
      ]
    },
    {
      "cell_type": "code",
      "source": [
        "#FE on NONLIVINGAREA_MODE\n",
        "\n",
        "X_train = df_build.dropna().drop(columns='YEARS_BUILD_MODE')\n",
        "y_train = df_build.dropna()['YEARS_BUILD_MODE']\n",
        "\n",
        "df_build =df1[['LANDAREA_MODE', 'NONLIVINGAREA_MODE', 'COMMONAREA_MODE','ENTRANCES_MODE',\n",
        "               'BASEMENTAREA_MODE','YEARS_BUILD_MODE','LIVINGAPARTMENTS_MODE','FLOORSMAX_MODE'\n",
        "               ]] \n",
        "               \n",
        "df_build.LIVINGAPARTMENTS_MODE.fillna(0.1056, inplace=True)\n",
        "df_build.FLOORSMAX_MODE.fillna(0.2223, inplace=True)\n",
        "\n",
        "X_test = df_build[df_build.YEARS_BUILD_MODE.isna()==True].drop(columns='YEARS_BUILD_MODE')\n",
        "\n",
        "#importing linear regression from SK Learn\n",
        "lm = LinearRegression()\n",
        "lm.fit(X_train,y_train)\n",
        "\n",
        "df1.loc[\n",
        "          df1.YEARS_BUILD_MODE.isna()==True, ['YEARS_BUILD_MODE']\n",
        "         ]  = lm.predict(X_test)"
      ],
      "metadata": {
        "colab": {
          "base_uri": "https://localhost:8080/"
        },
        "id": "0NrybVPBHg-E",
        "outputId": "f1f47d82-dbd9-4a3b-a28b-b350c531856e"
      },
      "id": "0NrybVPBHg-E",
      "execution_count": null,
      "outputs": [
        {
          "output_type": "stream",
          "name": "stderr",
          "text": [
            "/usr/local/lib/python3.7/dist-packages/pandas/core/series.py:4536: SettingWithCopyWarning: \n",
            "A value is trying to be set on a copy of a slice from a DataFrame\n",
            "\n",
            "See the caveats in the documentation: https://pandas.pydata.org/pandas-docs/stable/user_guide/indexing.html#returning-a-view-versus-a-copy\n",
            "  downcast=downcast,\n"
          ]
        }
      ]
    },
    {
      "cell_type": "code",
      "source": [
        "#FE on NONLIVINGAREA_MODE\n",
        "\n",
        "X_train = df_build.dropna().drop(columns='LIVINGAPARTMENTS_MODE')\n",
        "y_train = df_build.dropna()['LIVINGAPARTMENTS_MODE']\n",
        "\n",
        "df_build =df1[['LANDAREA_MODE', 'NONLIVINGAREA_MODE', 'COMMONAREA_MODE','ENTRANCES_MODE',\n",
        "               'BASEMENTAREA_MODE','YEARS_BUILD_MODE','LIVINGAPARTMENTS_MODE','FLOORSMAX_MODE'\n",
        "               ]] \n",
        "\n",
        "df_build.FLOORSMAX_MODE.fillna(0.2223, inplace=True)\n",
        "\n",
        "X_test = df_build[df_build.LIVINGAPARTMENTS_MODE.isna()==True].drop(columns='LIVINGAPARTMENTS_MODE')\n",
        "\n",
        "#importing linear regression from SK Learn\n",
        "lm = LinearRegression()\n",
        "lm.fit(X_train,y_train)\n",
        "\n",
        "df1.loc[\n",
        "          df1.LIVINGAPARTMENTS_MODE.isna()==True, ['LIVINGAPARTMENTS_MODE']\n",
        "         ]  = lm.predict(X_test)"
      ],
      "metadata": {
        "colab": {
          "base_uri": "https://localhost:8080/"
        },
        "id": "dgx-9653HpUP",
        "outputId": "d05f5e1c-cbb8-425e-ecc7-422ca1e7c16e"
      },
      "id": "dgx-9653HpUP",
      "execution_count": null,
      "outputs": [
        {
          "output_type": "stream",
          "name": "stderr",
          "text": [
            "/usr/local/lib/python3.7/dist-packages/pandas/core/series.py:4536: SettingWithCopyWarning: \n",
            "A value is trying to be set on a copy of a slice from a DataFrame\n",
            "\n",
            "See the caveats in the documentation: https://pandas.pydata.org/pandas-docs/stable/user_guide/indexing.html#returning-a-view-versus-a-copy\n",
            "  downcast=downcast,\n"
          ]
        }
      ]
    },
    {
      "cell_type": "code",
      "source": [
        "#FE on NONLIVINGAREA_MODE\n",
        "\n",
        "X_train = df_build.dropna().drop(columns='FLOORSMAX_MODE')\n",
        "y_train = df_build.dropna()['FLOORSMAX_MODE']\n",
        "\n",
        "df_build =df1[['LANDAREA_MODE', 'NONLIVINGAREA_MODE', 'COMMONAREA_MODE','ENTRANCES_MODE',\n",
        "               'BASEMENTAREA_MODE','YEARS_BUILD_MODE','LIVINGAPARTMENTS_MODE','FLOORSMAX_MODE'\n",
        "               ]] \n",
        "\n",
        "X_test = df_build[df_build.FLOORSMAX_MODE.isna()==True].drop(columns='FLOORSMAX_MODE')\n",
        "\n",
        "#importing linear regression from SK Learn\n",
        "lm = LinearRegression()\n",
        "lm.fit(X_train,y_train)\n",
        "\n",
        "df1.loc[\n",
        "          df1.FLOORSMAX_MODE.isna()==True, ['FLOORSMAX_MODE']\n",
        "         ]  = lm.predict(X_test)"
      ],
      "metadata": {
        "id": "qsriqBwcdy1g"
      },
      "id": "qsriqBwcdy1g",
      "execution_count": null,
      "outputs": []
    },
    {
      "cell_type": "code",
      "source": [
        "#PCA on SOCIAL_CIRCLE\n",
        "\n",
        "df_build =df1[['LANDAREA_MODE', 'NONLIVINGAREA_MODE', 'COMMONAREA_MODE','ENTRANCES_MODE',\n",
        "               'BASEMENTAREA_MODE','YEARS_BUILD_MODE','LIVINGAPARTMENTS_MODE','FLOORSMAX_MODE'\n",
        "               ]]    \n",
        "\n",
        "df1.drop(columns=['LANDAREA_MODE', 'NONLIVINGAREA_MODE', 'COMMONAREA_MODE','ENTRANCES_MODE'\n",
        "                  ,'BASEMENTAREA_MODE','YEARS_BUILD_MODE','LIVINGAPARTMENTS_MODE','FLOORSMAX_MODE'\n",
        "               ],inplace=True)  \n",
        "\n",
        "scaled_data = StandardScaler().fit(df_build).transform(df_build)\n",
        "pca = PCA(n_components=1).fit(scaled_data)\n",
        "x_pca = pca.transform(scaled_data)\n",
        "\n",
        "plt.figure(figsize=(6,4))\n",
        "plt.scatter(x_pca[:], df1['TARGET'],c=df1['TARGET'],cmap='plasma')\n",
        "plt.xlabel('PCA')\n",
        "plt.ylabel('TARGET Column')\n",
        "\n",
        "plt.figure(figsize=(12,1))\n",
        "sns.heatmap(pd.DataFrame(pca.components_,columns=df_build.columns)\n",
        "            ,cmap='plasma',)\n",
        "\n",
        "df1['HOME'] = x_pca"
      ],
      "metadata": {
        "colab": {
          "base_uri": "https://localhost:8080/",
          "height": 489
        },
        "id": "Yxs302sCI8Dg",
        "outputId": "948edebc-1103-42ca-c43c-e44f8c56dae4"
      },
      "id": "Yxs302sCI8Dg",
      "execution_count": null,
      "outputs": [
        {
          "output_type": "display_data",
          "data": {
            "image/png": "[encoded data removed]",
            "text/plain": [
              "<Figure size 432x288 with 1 Axes>"
            ]
          },
          "metadata": {
            "needs_background": "light"
          }
        },
        {
          "output_type": "display_data",
          "data": {
            "image/png": "[encoded data removed]",
            "text/plain": [
              "<Figure size 864x72 with 2 Axes>"
            ]
          },
          "metadata": {
            "needs_background": "light"
          }
        }
      ]
    },
    {
      "cell_type": "code",
      "source": [
        "#finding highly linear correlated features with not car owners\n",
        "df1[df1.OWN_CAR_AGE.isna()==True].corr()['TARGET'].sort_values(ascending=False)"
      ],
      "metadata": {
        "colab": {
          "base_uri": "https://localhost:8080/"
        },
        "id": "nszZR52cSDl8",
        "outputId": "02245af7-b379-40f7-b129-a407a570a919"
      },
      "id": "nszZR52cSDl8",
      "execution_count": null,
      "outputs": [
        {
          "output_type": "execute_result",
          "data": {
            "text/plain": [
              "TARGET                          1.000000\n",
              "DAYS_BIRTH                      0.092280\n",
              "REG_CITY_NOT_WORK_CITY          0.062210\n",
              "DEF_60_CNT_SOCIAL_CIRCLE        0.031591\n",
              "CNT_CHILDREN                    0.029301\n",
              "SOCIAL_CIRCLE_DEF               0.023564\n",
              "CNT_FAM_MEMBERS                 0.019620\n",
              "AMT_REQ_CREDIT_BUREAU_YEAR      0.014227\n",
              "LIVE_REGION_NOT_WORK_REGION     0.009743\n",
              "OBS_30_CNT_SOCIAL_CIRCLE        0.007262\n",
              "OBS_60_CNT_SOCIAL_CIRCLE        0.007133\n",
              "AMT_INCOME_TOTAL                0.002841\n",
              "NONLIVINGAPARTMENTS_MODE       -0.000369\n",
              "FLAG_EMAIL                     -0.000598\n",
              "NONLIVINGAPARTMENTS_MEDI       -0.001417\n",
              "NONLIVINGAPARTMENTS_AVG        -0.001802\n",
              "SK_ID_CURR                     -0.002033\n",
              "AMT_ANNUITY                    -0.006289\n",
              "DOCS                           -0.008874\n",
              "YEARS_BEGINEXPLUATATION_MODE   -0.010965\n",
              "YEARS_BEGINEXPLUATATION_AVG    -0.011669\n",
              "YEARS_BEGINEXPLUATATION_MEDI   -0.011818\n",
              "YEARS_BUILD_AVG                -0.020217\n",
              "HOME                           -0.020295\n",
              "YEARS_BUILD_MEDI               -0.020304\n",
              "AMT_CREDIT                     -0.023685\n",
              "HOUR_APPR_PROCESS_START        -0.024576\n",
              "APARTMENTS_MODE                -0.027861\n",
              "APARTMENTS_MEDI                -0.029651\n",
              "APARTMENTS_AVG                 -0.029751\n",
              "FLOORSMIN_MODE                 -0.030541\n",
              "LIVINGAREA_MODE                -0.030558\n",
              "FLOORSMIN_MEDI                 -0.030939\n",
              "FLOORSMIN_AVG                  -0.031129\n",
              "ELEVATORS_MODE                 -0.031246\n",
              "TOTALAREA_MODE                 -0.031966\n",
              "LIVINGAREA_MEDI                -0.032773\n",
              "LIVINGAREA_AVG                 -0.032919\n",
              "ELEVATORS_MEDI                 -0.032949\n",
              "ELEVATORS_AVG                  -0.033093\n",
              "AMT_GOODS_PRICE                -0.033205\n",
              "REGION_POPULATION_RELATIVE     -0.034855\n",
              "FLOORSMAX_MEDI                 -0.042669\n",
              "FLOORSMAX_AVG                  -0.042859\n",
              "REG                            -0.047401\n",
              "DAYS_EMPLOYED                  -0.056136\n",
              "PHONE                          -0.077456\n",
              "EXT_SOURCE_2                   -0.160740\n",
              "EXT_SOURCE_1                   -0.165705\n",
              "EXT_SOURCE_3                   -0.184371\n",
              "OWN_CAR_AGE                    NaN      \n",
              "Name: TARGET, dtype: float64"
            ]
          },
          "metadata": {},
          "execution_count": 33
        }
      ]
    },
    {
      "cell_type": "code",
      "source": [
        "#FE on car owning\n",
        "\n",
        "X_train = df1.dropna()[['REG_CITY_NOT_WORK_CITY', 'PHONE', 'DAYS_EMPLOYED', 'REGION_POPULATION_RELATIVE']]\n",
        "y_train = df1.dropna()['OWN_CAR_AGE']\n",
        "X_test = df1[df1.OWN_CAR_AGE.isna()==True][['REG_CITY_NOT_WORK_CITY', 'PHONE', 'DAYS_EMPLOYED', 'REGION_POPULATION_RELATIVE']]\n",
        "y_test = df1[df1.OWN_CAR_AGE.isna()==True]['OWN_CAR_AGE']\n",
        "\n",
        "#importing linear regression from SK Learn\n",
        "lm = LinearRegression()\n",
        "lm.fit(X_train,y_train)\n",
        "\n",
        "df1.loc[\n",
        "          df1.OWN_CAR_AGE.isna()==True, ['OWN_CAR_AGE']\n",
        "         ]  = lm.predict(\n",
        "                          df1[df1.OWN_CAR_AGE.isna()==True][['REG_CITY_NOT_WORK_CITY', 'PHONE'\n",
        "                                                                , 'DAYS_EMPLOYED', 'REGION_POPULATION_RELATIVE']]\n",
        "                        )"
      ],
      "metadata": {
        "id": "IPXNws3mTFSf"
      },
      "id": "IPXNws3mTFSf",
      "execution_count": null,
      "outputs": []
    },
    {
      "cell_type": "code",
      "source": [
        "#############################"
      ],
      "metadata": {
        "id": "RiTOVks2M_Va"
      },
      "id": "RiTOVks2M_Va",
      "execution_count": null,
      "outputs": []
    },
    {
      "cell_type": "code",
      "source": [
        "df1_cat = df1[['NAME_CONTRACT_TYPE',\n",
        "                'CODE_GENDER',\n",
        "                'FLAG_OWN_CAR',\n",
        "                'FLAG_OWN_REALTY',\n",
        "                'NAME_TYPE_SUITE',\n",
        "                'NAME_INCOME_TYPE',\n",
        "                'NAME_EDUCATION_TYPE',\n",
        "                'NAME_FAMILY_STATUS',\n",
        "                'NAME_HOUSING_TYPE',\n",
        "                'OCCUPATION_TYPE','SK_ID_CURR']]"
      ],
      "metadata": {
        "id": "_7jvXjoIQ4vs"
      },
      "id": "_7jvXjoIQ4vs",
      "execution_count": null,
      "outputs": []
    },
    {
      "cell_type": "code",
      "source": [
        "df1_cat.loc[ df1_cat.NAME_TYPE_SUITE.isna()==True, ['NAME_TYPE_SUITE'] ]  = \"not_defined\"\n",
        "df1_cat.loc[ df1_cat.OCCUPATION_TYPE.isna()==True, ['OCCUPATION_TYPE'] ]  = \"not_defined\""
      ],
      "metadata": {
        "id": "eTPTwYTYvDhi"
      },
      "id": "eTPTwYTYvDhi",
      "execution_count": null,
      "outputs": []
    },
    {
      "cell_type": "code",
      "source": [
        "df1_cat = pd.get_dummies(df1_cat, columns=['NAME_CONTRACT_TYPE','CODE_GENDER', 'FLAG_OWN_CAR','FLAG_OWN_REALTY',\n",
        "                                        'NAME_TYPE_SUITE','NAME_INCOME_TYPE','NAME_EDUCATION_TYPE',\n",
        "                                        'NAME_FAMILY_STATUS','NAME_HOUSING_TYPE','OCCUPATION_TYPE'])"
      ],
      "metadata": {
        "id": "cOg3vDI0mezO"
      },
      "id": "cOg3vDI0mezO",
      "execution_count": null,
      "outputs": []
    },
    {
      "cell_type": "code",
      "source": [
        "test1 = df1[['SK_ID_CURR','EXT_SOURCE_3','EXT_SOURCE_2','EXT_SOURCE_1','PHONE','REG'\n",
        ",'DAYS_EMPLOYED','AMT_GOODS_PRICE','REGION_POPULATION_RELATIVE','AMT_INCOME_TOTAL'\n",
        ",'AMT_CREDIT','HOME','AMT_ANNUITY','DOCS'\n",
        ",'DAYS_BIRTH','REG_CITY_NOT_WORK_CITY','OWN_CAR_AGE','SOCIAL_CIRCLE_DEF','CNT_CHILDREN','TARGET']]"
      ],
      "metadata": {
        "id": "ECzwGwKYNANh"
      },
      "id": "ECzwGwKYNANh",
      "execution_count": null,
      "outputs": []
    },
    {
      "cell_type": "code",
      "source": [
        "test1 = test1.merge(df1_cat, on='SK_ID_CURR', how='left', indicator=True)\n",
        "test1._merge.value_counts()"
      ],
      "metadata": {
        "colab": {
          "base_uri": "https://localhost:8080/"
        },
        "id": "UiIsgGPYyJ3Z",
        "outputId": "a3ebfa74-86aa-441b-dd98-1f4148901591"
      },
      "id": "UiIsgGPYyJ3Z",
      "execution_count": null,
      "outputs": [
        {
          "output_type": "execute_result",
          "data": {
            "text/plain": [
              "both          307510\n",
              "right_only    0     \n",
              "left_only     0     \n",
              "Name: _merge, dtype: int64"
            ]
          },
          "metadata": {},
          "execution_count": 43
        }
      ]
    },
    {
      "cell_type": "code",
      "source": [
        "df_fe = test1[['EXT_SOURCE_3','EXT_SOURCE_2','EXT_SOURCE_1']]              \n",
        "\n",
        "df_fe.loc[\n",
        "          df_fe.EXT_SOURCE_2.isna()==True, ['EXT_SOURCE_2']\n",
        "         ]  = df_fe.EXT_SOURCE_2.mean()\n",
        "\n",
        "df_fe.loc[\n",
        "          df_fe.EXT_SOURCE_1.isna()==True, ['EXT_SOURCE_1']\n",
        "         ]  = df_fe.EXT_SOURCE_1.mean()         "
      ],
      "metadata": {
        "id": "FXj0cwN520e8"
      },
      "id": "FXj0cwN520e8",
      "execution_count": null,
      "outputs": []
    },
    {
      "cell_type": "code",
      "source": [
        "#FE on EXT_SOURCE_3\n",
        "\n",
        "X_train = df_fe.dropna().drop(columns='EXT_SOURCE_3')\n",
        "y_train = df_fe.dropna()['EXT_SOURCE_3']\n",
        "\n",
        "X_test = df_fe[df_fe.EXT_SOURCE_3.isna()==True].drop(columns='EXT_SOURCE_3')\n",
        "\n",
        "#importing linear regression from SK Learn\n",
        "lm = LinearRegression()\n",
        "lm.fit(X_train,y_train)\n",
        "\n",
        "test1.loc[\n",
        "          test1.EXT_SOURCE_3.isna()==True, ['EXT_SOURCE_3']\n",
        "         ]  = lm.predict(X_test)"
      ],
      "metadata": {
        "id": "qGXO1DJG3Ezj"
      },
      "id": "qGXO1DJG3Ezj",
      "execution_count": null,
      "outputs": []
    },
    {
      "cell_type": "code",
      "source": [
        "#FE on EXT_SOURCE_1\n",
        "\n",
        "X_train = df_fe.dropna().drop(columns='EXT_SOURCE_1')\n",
        "y_train = df_fe.dropna()['EXT_SOURCE_1']\n",
        "\n",
        "df_fe = test1[['EXT_SOURCE_3','EXT_SOURCE_2','EXT_SOURCE_1']]              \n",
        "\n",
        "df_fe.loc[\n",
        "          df_fe.EXT_SOURCE_2.isna()==True, ['EXT_SOURCE_2']\n",
        "         ]  = df_fe.EXT_SOURCE_2.mean()\n",
        "\n",
        "df_fe.loc[\n",
        "          df_fe.EXT_SOURCE_3.isna()==True, ['EXT_SOURCE_3']\n",
        "         ]  = df_fe.EXT_SOURCE_3.mean()     \n",
        "\n",
        "X_test = df_fe[df_fe.EXT_SOURCE_1.isna()==True].drop(columns='EXT_SOURCE_1')\n",
        "\n",
        "#importing linear regression from SK Learn\n",
        "lm = LinearRegression()\n",
        "lm.fit(X_train,y_train)\n",
        "\n",
        "test1.loc[\n",
        "          test1.EXT_SOURCE_1.isna()==True, ['EXT_SOURCE_1']\n",
        "         ]  = lm.predict(X_test)"
      ],
      "metadata": {
        "id": "PNPqBOJ86YoD"
      },
      "id": "PNPqBOJ86YoD",
      "execution_count": null,
      "outputs": []
    },
    {
      "cell_type": "code",
      "source": [
        "#FE on EXT_SOURCE_2\n",
        "\n",
        "X_train = df_fe.dropna().drop(columns='EXT_SOURCE_2')\n",
        "y_train = df_fe.dropna()['EXT_SOURCE_2']\n",
        "\n",
        "df_fe = test1[['EXT_SOURCE_3','EXT_SOURCE_2','EXT_SOURCE_1']]              \n",
        "\n",
        "df_fe.loc[\n",
        "          df_fe.EXT_SOURCE_1.isna()==True, ['EXT_SOURCE_1']\n",
        "         ]  = df_fe.EXT_SOURCE_1.mean()\n",
        "\n",
        "df_fe.loc[\n",
        "          df_fe.EXT_SOURCE_3.isna()==True, ['EXT_SOURCE_3']\n",
        "         ]  = df_fe.EXT_SOURCE_3.mean()     \n",
        "\n",
        "X_test = df_fe[df_fe.EXT_SOURCE_2.isna()==True].drop(columns='EXT_SOURCE_2')\n",
        "\n",
        "#importing linear regression from SK Learn\n",
        "lm = LinearRegression()\n",
        "lm.fit(X_train,y_train)\n",
        "\n",
        "test1.loc[\n",
        "          test1.EXT_SOURCE_2.isna()==True, ['EXT_SOURCE_2']\n",
        "         ]  = lm.predict(X_test)"
      ],
      "metadata": {
        "id": "e0AkMSsD40yN"
      },
      "id": "e0AkMSsD40yN",
      "execution_count": null,
      "outputs": []
    },
    {
      "cell_type": "code",
      "source": [
        "#Aplicando média pq é menos de 1% da treino e o SD é bbaixo\n",
        "test1.loc[\n",
        "          test1.AMT_GOODS_PRICE.isna()==True, ['AMT_GOODS_PRICE']\n",
        "         ]  = test1.AMT_GOODS_PRICE.mean()\n",
        "\n",
        "test1.loc[\n",
        "          test1.AMT_ANNUITY.isna()==True, ['AMT_ANNUITY']\n",
        "         ]  = test1.AMT_ANNUITY.mean()                                              "
      ],
      "metadata": {
        "id": "rOcfjg2p-ADN"
      },
      "id": "rOcfjg2p-ADN",
      "execution_count": null,
      "outputs": []
    },
    {
      "cell_type": "code",
      "source": [
        "test1.isna().sum()"
      ],
      "metadata": {
        "colab": {
          "base_uri": "https://localhost:8080/"
        },
        "id": "VCpZTgkoygaZ",
        "outputId": "45338438-6240-4ede-af46-092ac8e6e727"
      },
      "id": "VCpZTgkoygaZ",
      "execution_count": null,
      "outputs": [
        {
          "output_type": "execute_result",
          "data": {
            "text/plain": [
              "SK_ID_CURR                                           0\n",
              "EXT_SOURCE_3                                         0\n",
              "EXT_SOURCE_2                                         0\n",
              "EXT_SOURCE_1                                         0\n",
              "PHONE                                                0\n",
              "REG                                                  0\n",
              "DAYS_EMPLOYED                                        0\n",
              "AMT_GOODS_PRICE                                      0\n",
              "REGION_POPULATION_RELATIVE                           0\n",
              "AMT_INCOME_TOTAL                                     0\n",
              "AMT_CREDIT                                           0\n",
              "HOME                                                 0\n",
              "AMT_ANNUITY                                          0\n",
              "DOCS                                                 0\n",
              "DAYS_BIRTH                                           0\n",
              "REG_CITY_NOT_WORK_CITY                               0\n",
              "OWN_CAR_AGE                                          0\n",
              "SOCIAL_CIRCLE_DEF                                    0\n",
              "CNT_CHILDREN                                         0\n",
              "TARGET                                               0\n",
              "NAME_CONTRACT_TYPE_Cash loans                        0\n",
              "NAME_CONTRACT_TYPE_Revolving loans                   0\n",
              "CODE_GENDER_F                                        0\n",
              "CODE_GENDER_M                                        0\n",
              "CODE_GENDER_XNA                                      0\n",
              "FLAG_OWN_CAR_N                                       0\n",
              "FLAG_OWN_CAR_Y                                       0\n",
              "FLAG_OWN_REALTY_N                                    0\n",
              "FLAG_OWN_REALTY_Y                                    0\n",
              "NAME_TYPE_SUITE_Children                             0\n",
              "NAME_TYPE_SUITE_Family                               0\n",
              "NAME_TYPE_SUITE_Group of people                      0\n",
              "NAME_TYPE_SUITE_Other_A                              0\n",
              "NAME_TYPE_SUITE_Other_B                              0\n",
              "NAME_TYPE_SUITE_Spouse, partner                      0\n",
              "NAME_TYPE_SUITE_Unaccompanied                        0\n",
              "NAME_TYPE_SUITE_not_defined                          0\n",
              "NAME_INCOME_TYPE_Businessman                         0\n",
              "NAME_INCOME_TYPE_Commercial associate                0\n",
              "NAME_INCOME_TYPE_Maternity leave                     0\n",
              "NAME_INCOME_TYPE_Pensioner                           0\n",
              "NAME_INCOME_TYPE_State servant                       0\n",
              "NAME_INCOME_TYPE_Student                             0\n",
              "NAME_INCOME_TYPE_Unemployed                          0\n",
              "NAME_INCOME_TYPE_Working                             0\n",
              "NAME_EDUCATION_TYPE_Academic degree                  0\n",
              "NAME_EDUCATION_TYPE_Higher education                 0\n",
              "NAME_EDUCATION_TYPE_Incomplete higher                0\n",
              "NAME_EDUCATION_TYPE_Lower secondary                  0\n",
              "NAME_EDUCATION_TYPE_Secondary / secondary special    0\n",
              "NAME_FAMILY_STATUS_Civil marriage                    0\n",
              "NAME_FAMILY_STATUS_Married                           0\n",
              "NAME_FAMILY_STATUS_Separated                         0\n",
              "NAME_FAMILY_STATUS_Single / not married              0\n",
              "NAME_FAMILY_STATUS_Unknown                           0\n",
              "NAME_FAMILY_STATUS_Widow                             0\n",
              "NAME_HOUSING_TYPE_Co-op apartment                    0\n",
              "NAME_HOUSING_TYPE_House / apartment                  0\n",
              "NAME_HOUSING_TYPE_Municipal apartment                0\n",
              "NAME_HOUSING_TYPE_Office apartment                   0\n",
              "NAME_HOUSING_TYPE_Rented apartment                   0\n",
              "NAME_HOUSING_TYPE_With parents                       0\n",
              "OCCUPATION_TYPE_Accountants                          0\n",
              "OCCUPATION_TYPE_Cleaning staff                       0\n",
              "OCCUPATION_TYPE_Cooking staff                        0\n",
              "OCCUPATION_TYPE_Core staff                           0\n",
              "OCCUPATION_TYPE_Drivers                              0\n",
              "OCCUPATION_TYPE_HR staff                             0\n",
              "OCCUPATION_TYPE_High skill tech staff                0\n",
              "OCCUPATION_TYPE_IT staff                             0\n",
              "OCCUPATION_TYPE_Laborers                             0\n",
              "OCCUPATION_TYPE_Low-skill Laborers                   0\n",
              "OCCUPATION_TYPE_Managers                             0\n",
              "OCCUPATION_TYPE_Medicine staff                       0\n",
              "OCCUPATION_TYPE_Private service staff                0\n",
              "OCCUPATION_TYPE_Realty agents                        0\n",
              "OCCUPATION_TYPE_Sales staff                          0\n",
              "OCCUPATION_TYPE_Secretaries                          0\n",
              "OCCUPATION_TYPE_Security staff                       0\n",
              "OCCUPATION_TYPE_Waiters/barmen staff                 0\n",
              "OCCUPATION_TYPE_not_defined                          0\n",
              "_merge                                               0\n",
              "dtype: int64"
            ]
          },
          "metadata": {},
          "execution_count": 53
        }
      ]
    },
    {
      "cell_type": "code",
      "execution_count": null,
      "id": "0cfab7f6",
      "metadata": {
        "scrolled": true,
        "id": "0cfab7f6"
      },
      "outputs": [],
      "source": [
        "#test1.dropna(inplace=True)"
      ]
    },
    {
      "cell_type": "code",
      "execution_count": null,
      "id": "5f374a50",
      "metadata": {
        "id": "5f374a50"
      },
      "outputs": [],
      "source": [
        "#sns.pairplot(df1)"
      ]
    },
    {
      "cell_type": "markdown",
      "id": "95e32f23",
      "metadata": {
        "id": "95e32f23"
      },
      "source": [
        "# FULL MODEL"
      ]
    },
    {
      "cell_type": "code",
      "source": [
        "test1.shape[0], df1.shape[0]"
      ],
      "metadata": {
        "colab": {
          "base_uri": "https://localhost:8080/"
        },
        "id": "RpbUCA0oCqq_",
        "outputId": "43ca7ba2-9231-4c62-d688-63c50814d11d"
      },
      "id": "RpbUCA0oCqq_",
      "execution_count": null,
      "outputs": [
        {
          "output_type": "execute_result",
          "data": {
            "text/plain": [
              "(307510, 307510)"
            ]
          },
          "metadata": {},
          "execution_count": 56
        }
      ]
    },
    {
      "cell_type": "code",
      "source": [
        "test1.drop(columns=['_merge'],inplace=True)"
      ],
      "metadata": {
        "id": "SfN-RqJGzeuz"
      },
      "id": "SfN-RqJGzeuz",
      "execution_count": null,
      "outputs": []
    },
    {
      "cell_type": "code",
      "execution_count": null,
      "id": "bcb37001",
      "metadata": {
        "id": "bcb37001"
      },
      "outputs": [],
      "source": [
        "from sklearn.tree import DecisionTreeClassifier\n",
        "from sklearn.model_selection import train_test_split\n",
        "\n",
        "\n",
        "X = test1.drop('TARGET',axis=1)\n",
        "y = test1['TARGET']\n",
        "X_train, X_test, y_train, y_test = train_test_split(X, y, test_size=0.30, random_state=101)\n",
        "\n",
        "dtree = DecisionTreeClassifier()\n",
        "dtree.fit(X_train,y_train)\n",
        "\n",
        "pred = dtree.predict(X_test)"
      ]
    },
    {
      "cell_type": "code",
      "execution_count": null,
      "id": "44d43405",
      "metadata": {
        "scrolled": true,
        "colab": {
          "base_uri": "https://localhost:8080/"
        },
        "id": "44d43405",
        "outputId": "c4c94081-7962-43bf-974c-b62f591ce63f"
      },
      "outputs": [
        {
          "output_type": "stream",
          "name": "stdout",
          "text": [
            "              precision    recall  f1-score   support\n",
            "\n",
            "           0       0.93      0.91      0.92     84780\n",
            "           1       0.14      0.16      0.15      7473\n",
            "\n",
            "    accuracy                           0.85     92253\n",
            "   macro avg       0.53      0.54      0.53     92253\n",
            "weighted avg       0.86      0.85      0.86     92253\n",
            "\n"
          ]
        }
      ],
      "source": [
        "from sklearn.metrics import classification_report,confusion_matrix\n",
        "\n",
        "print(classification_report(y_test,pred))"
      ]
    },
    {
      "cell_type": "code",
      "execution_count": null,
      "id": "bc6366b2",
      "metadata": {
        "colab": {
          "base_uri": "https://localhost:8080/"
        },
        "id": "bc6366b2",
        "outputId": "f56259e2-8620-4abc-f406-2a7530c928fb"
      },
      "outputs": [
        {
          "output_type": "stream",
          "name": "stdout",
          "text": [
            "[[77341  7439]\n",
            " [ 6269  1204]]\n"
          ]
        }
      ],
      "source": [
        "print(confusion_matrix(y_test,pred))"
      ]
    },
    {
      "cell_type": "code",
      "execution_count": null,
      "id": "4fe74b48",
      "metadata": {
        "id": "4fe74b48"
      },
      "outputs": [],
      "source": [
        "from sklearn.ensemble import RandomForestClassifier\n",
        "\n",
        "rfc = RandomForestClassifier(n_estimators=600)\n",
        "rfc.fit(X_train,y_train)\n",
        "\n",
        "pred2 = rfc.predict(X_test)"
      ]
    },
    {
      "cell_type": "code",
      "source": [
        "print(classification_report(y_test,pred2))"
      ],
      "metadata": {
        "colab": {
          "base_uri": "https://localhost:8080/"
        },
        "id": "ibEhqo8thGoo",
        "outputId": "7678a115-152e-40ce-afad-30efae398fe3"
      },
      "id": "ibEhqo8thGoo",
      "execution_count": null,
      "outputs": [
        {
          "output_type": "stream",
          "name": "stdout",
          "text": [
            "              precision    recall  f1-score   support\n",
            "\n",
            "           0       0.92      1.00      0.96     84780\n",
            "           1       0.83      0.00      0.00      7473\n",
            "\n",
            "    accuracy                           0.92     92253\n",
            "   macro avg       0.88      0.50      0.48     92253\n",
            "weighted avg       0.91      0.92      0.88     92253\n",
            "\n"
          ]
        }
      ]
    },
    {
      "cell_type": "code",
      "execution_count": null,
      "id": "516dc73d",
      "metadata": {
        "colab": {
          "base_uri": "https://localhost:8080/"
        },
        "id": "516dc73d",
        "outputId": "f01481e5-0e03-4341-aa6d-860431b99345"
      },
      "outputs": [
        {
          "output_type": "stream",
          "name": "stdout",
          "text": [
            "[[84778     2]\n",
            " [ 7463    10]]\n"
          ]
        }
      ],
      "source": [
        "print(confusion_matrix(y_test,pred2)) "
      ]
    },
    {
      "cell_type": "code",
      "execution_count": null,
      "id": "dcd61816",
      "metadata": {
        "scrolled": true,
        "colab": {
          "base_uri": "https://localhost:8080/"
        },
        "id": "dcd61816",
        "outputId": "e755202b-caec-4c4a-eb6b-b00a56f8e956"
      },
      "outputs": [
        {
          "output_type": "execute_result",
          "data": {
            "text/plain": [
              "0.9192709180189262"
            ]
          },
          "metadata": {},
          "execution_count": 63
        }
      ],
      "source": [
        "test1[test1.TARGET==0]['TARGET'].count()/test1.shape[0]"
      ]
    },
    {
      "cell_type": "code",
      "execution_count": null,
      "id": "401d2028",
      "metadata": {
        "colab": {
          "base_uri": "https://localhost:8080/"
        },
        "id": "401d2028",
        "outputId": "17831d5f-51a5-491c-b5ea-6673ac230983"
      },
      "outputs": [
        {
          "output_type": "execute_result",
          "data": {
            "text/plain": [
              "0.08072908198107379"
            ]
          },
          "metadata": {},
          "execution_count": 64
        }
      ],
      "source": [
        "test1[test1.TARGET>0]['TARGET'].count()/test1.shape[0]"
      ]
    },
    {
      "cell_type": "markdown",
      "id": "c6d0c75f",
      "metadata": {
        "id": "c6d0c75f"
      },
      "source": [
        "# UNBIASING"
      ]
    },
    {
      "cell_type": "code",
      "execution_count": null,
      "id": "e2bf4c53",
      "metadata": {
        "colab": {
          "base_uri": "https://localhost:8080/"
        },
        "id": "e2bf4c53",
        "outputId": "3fd4106f-ecc7-4d3f-ba79-3867fedf6b2a"
      },
      "outputs": [
        {
          "output_type": "execute_result",
          "data": {
            "text/plain": [
              "1    24825\n",
              "0    24825\n",
              "Name: TARGET, dtype: int64"
            ]
          },
          "metadata": {},
          "execution_count": 67
        }
      ],
      "source": [
        "test2 = test1[test1.TARGET==0].sample(24825 )\n",
        "test2 = test2.append(test1[test1.TARGET>0])\n",
        "test2.TARGET.value_counts()"
      ]
    },
    {
      "cell_type": "code",
      "execution_count": null,
      "id": "28eb0f68",
      "metadata": {
        "id": "28eb0f68"
      },
      "outputs": [],
      "source": [
        "from sklearn.tree import DecisionTreeClassifier\n",
        "from sklearn.model_selection import train_test_split\n",
        "\n",
        "X = test2.drop('TARGET',axis=1)\n",
        "y = test2['TARGET']\n",
        "X_train, X_test, y_train, y_test = train_test_split(X, y, test_size=0.30, random_state=101)\n",
        "\n",
        "dtree = DecisionTreeClassifier()\n",
        "dtree.fit(X_train,y_train)\n",
        "\n",
        "pred3 = dtree.predict(X_test)"
      ]
    },
    {
      "cell_type": "code",
      "source": [
        "print(classification_report(y_test,pred3))"
      ],
      "metadata": {
        "colab": {
          "base_uri": "https://localhost:8080/"
        },
        "id": "zqN_Tf0ukHCx",
        "outputId": "d45661b7-d7d3-47b7-b2be-8aa941956c37"
      },
      "id": "zqN_Tf0ukHCx",
      "execution_count": null,
      "outputs": [
        {
          "output_type": "stream",
          "name": "stdout",
          "text": [
            "              precision    recall  f1-score   support\n",
            "\n",
            "           0       0.58      0.58      0.58      7465\n",
            "           1       0.58      0.58      0.58      7430\n",
            "\n",
            "    accuracy                           0.58     14895\n",
            "   macro avg       0.58      0.58      0.58     14895\n",
            "weighted avg       0.58      0.58      0.58     14895\n",
            "\n"
          ]
        }
      ]
    },
    {
      "cell_type": "code",
      "execution_count": null,
      "id": "0718086f",
      "metadata": {
        "colab": {
          "base_uri": "https://localhost:8080/"
        },
        "id": "0718086f",
        "outputId": "0ba0aca8-c9e4-44dd-dfa3-1bfd45f33ed7"
      },
      "outputs": [
        {
          "output_type": "stream",
          "name": "stdout",
          "text": [
            "[[4351 3114]\n",
            " [3100 4330]]\n"
          ]
        }
      ],
      "source": [
        "print(confusion_matrix(y_test,pred3))"
      ]
    },
    {
      "cell_type": "code",
      "execution_count": null,
      "id": "09033295",
      "metadata": {
        "id": "09033295"
      },
      "outputs": [],
      "source": [
        "rfc = RandomForestClassifier(n_estimators=600)\n",
        "rfc.fit(X_train,y_train)\n",
        "\n",
        "pred4 = rfc.predict(X_test)"
      ]
    },
    {
      "cell_type": "code",
      "execution_count": null,
      "id": "51a2f4ac",
      "metadata": {
        "colab": {
          "base_uri": "https://localhost:8080/"
        },
        "id": "51a2f4ac",
        "outputId": "4baa6314-c85c-40f6-b34e-b5da7cf954e1"
      },
      "outputs": [
        {
          "output_type": "stream",
          "name": "stdout",
          "text": [
            "              precision    recall  f1-score   support\n",
            "\n",
            "           0       0.68      0.68      0.68      7465\n",
            "           1       0.68      0.67      0.67      7430\n",
            "\n",
            "    accuracy                           0.68     14895\n",
            "   macro avg       0.68      0.68      0.68     14895\n",
            "weighted avg       0.68      0.68      0.68     14895\n",
            "\n"
          ]
        }
      ],
      "source": [
        "print(classification_report(y_test,pred4))"
      ]
    },
    {
      "cell_type": "code",
      "execution_count": null,
      "id": "7d06cc52",
      "metadata": {
        "colab": {
          "base_uri": "https://localhost:8080/"
        },
        "id": "7d06cc52",
        "outputId": "eedc7c06-6ccd-4a38-fd5b-fa50f2380c75"
      },
      "outputs": [
        {
          "output_type": "stream",
          "name": "stdout",
          "text": [
            "[[5087 2378]\n",
            " [2436 4994]]\n"
          ]
        }
      ],
      "source": [
        "print(confusion_matrix(y_test,pred4))"
      ]
    },
    {
      "cell_type": "markdown",
      "source": [
        "#Deep Learning"
      ],
      "metadata": {
        "id": "1KBERV1j7Hzv"
      },
      "id": "1KBERV1j7Hzv"
    },
    {
      "cell_type": "code",
      "source": [
        "from sklearn.model_selection import train_test_split\n",
        "from sklearn.preprocessing import MinMaxScaler\n",
        "from tensorflow.keras.models import Sequential\n",
        "from tensorflow.keras.layers import Dense\n",
        "from sklearn.metrics import mean_absolute_error, mean_squared_error\n",
        "from tensorflow.keras.models import load_model\n",
        "from tensorflow.keras.callbacks import EarlyStopping\n",
        "from tensorflow.keras.layers import Dropout"
      ],
      "metadata": {
        "id": "zQDEXBFS7JqH"
      },
      "id": "zQDEXBFS7JqH",
      "execution_count": null,
      "outputs": []
    },
    {
      "cell_type": "code",
      "source": [
        "X = test2.drop('TARGET',axis=1).values\n",
        "y = test2['TARGET'].values\n",
        "X_train, X_test, y_train, y_test = train_test_split(X, y, test_size=0.30, random_state=101)"
      ],
      "metadata": {
        "id": "RZzHxYQu7Qqv"
      },
      "id": "RZzHxYQu7Qqv",
      "execution_count": null,
      "outputs": []
    },
    {
      "cell_type": "code",
      "source": [
        "scaler = MinMaxScaler()\n",
        "scaler.fit(X_train)\n",
        "\n",
        "X_train = scaler.transform(X_train)\n",
        "X_test = scaler.transform(X_test)"
      ],
      "metadata": {
        "id": "jXtL5wdn7rTp"
      },
      "id": "jXtL5wdn7rTp",
      "execution_count": null,
      "outputs": []
    },
    {
      "cell_type": "code",
      "source": [
        "X_train.shape[0], y_train.shape[0], X_test.shape[0],y_test.shape[0]"
      ],
      "metadata": {
        "colab": {
          "base_uri": "https://localhost:8080/"
        },
        "id": "NyzW8cpX7Qyw",
        "outputId": "e90b9f31-5724-44c1-db89-ede52cc81efe"
      },
      "id": "NyzW8cpX7Qyw",
      "execution_count": null,
      "outputs": [
        {
          "output_type": "execute_result",
          "data": {
            "text/plain": [
              "(34755, 34755, 14895, 14895)"
            ]
          },
          "metadata": {},
          "execution_count": 77
        }
      ]
    },
    {
      "cell_type": "code",
      "source": [
        "X_train.shape"
      ],
      "metadata": {
        "colab": {
          "base_uri": "https://localhost:8080/"
        },
        "id": "PEY-CSNj00bb",
        "outputId": "e13f5397-4c83-4da2-c5ba-cc48e511bd46"
      },
      "id": "PEY-CSNj00bb",
      "execution_count": null,
      "outputs": [
        {
          "output_type": "execute_result",
          "data": {
            "text/plain": [
              "(34755, 80)"
            ]
          },
          "metadata": {},
          "execution_count": 78
        }
      ]
    },
    {
      "cell_type": "code",
      "source": [
        "model = Sequential()\n",
        "\n",
        "#number of columns is the initial\n",
        "model.add(Dense(80, activation='relu'))\n",
        "#half of neurons are shutdown on each epoch\n",
        "model.add(Dropout(0.5))\n",
        "\n",
        "model.add(Dense(160, activation='relu'))\n",
        "model.add(Dropout(0.5))\n",
        "\n",
        "model.add(Dense(320, activation='relu'))\n",
        "model.add(Dropout(0.5))\n",
        "\n",
        "model.add(Dense(160, activation='relu'))\n",
        "model.add(Dropout(0.5))\n",
        "\n",
        "model.add(Dense(80, activation='relu'))\n",
        "model.add(Dropout(0.5))\n",
        "\n",
        "model.add(Dense(40, activation='relu'))\n",
        "model.add(Dropout(0.5))\n",
        "\n",
        "model.add(Dense(10, activation='relu'))\n",
        "model.add(Dropout(0.5))\n",
        "\n",
        "model.add(Dense(4, activation='relu'))\n",
        "model.add(Dropout(0.5))\n",
        "\n",
        "#binary classfication\n",
        "model.add(Dense(1, activation='sigmoid'))\n",
        "\n",
        "model.compile(optimizer='adam', loss='binary_crossentropy')\n",
        "\n",
        "#We can use a large epochs now\n",
        "early_stop = EarlyStopping(monitor='val_loss', mode='min', verbose=1, patience=25)\n",
        "model.fit(x= X_train, y = y_train,\n",
        "          epochs=1000,\n",
        "          validation_data=(X_test,y_test),\n",
        "          batch_size=128,\n",
        "          callbacks=[early_stop])"
      ],
      "metadata": {
        "id": "kMzuTreQ7Qob",
        "colab": {
          "base_uri": "https://localhost:8080/"
        },
        "outputId": "832f0fdb-9cd6-4034-c286-023ad0f1ab9d"
      },
      "id": "kMzuTreQ7Qob",
      "execution_count": null,
      "outputs": [
        {
          "output_type": "stream",
          "name": "stdout",
          "text": [
            "Epoch 1/1000\n",
            "272/272 [==============================] - 3s 7ms/step - loss: 0.6978 - val_loss: 0.6932\n",
            "Epoch 2/1000\n",
            "272/272 [==============================] - 2s 6ms/step - loss: 0.6934 - val_loss: 0.6931\n",
            "Epoch 3/1000\n",
            "272/272 [==============================] - 2s 6ms/step - loss: 0.6928 - val_loss: 0.6932\n",
            "Epoch 4/1000\n",
            "272/272 [==============================] - 2s 6ms/step - loss: 0.6894 - val_loss: 0.6891\n",
            "Epoch 5/1000\n",
            "272/272 [==============================] - 2s 6ms/step - loss: 0.6838 - val_loss: 0.6846\n",
            "Epoch 6/1000\n",
            "272/272 [==============================] - 2s 6ms/step - loss: 0.6793 - val_loss: 0.6785\n",
            "Epoch 7/1000\n",
            "272/272 [==============================] - 2s 6ms/step - loss: 0.6762 - val_loss: 0.6812\n",
            "Epoch 8/1000\n",
            "272/272 [==============================] - 2s 6ms/step - loss: 0.6744 - val_loss: 0.6790\n",
            "Epoch 9/1000\n",
            "272/272 [==============================] - 2s 6ms/step - loss: 0.6711 - val_loss: 0.6708\n",
            "Epoch 10/1000\n",
            "272/272 [==============================] - 2s 6ms/step - loss: 0.6694 - val_loss: 0.6689\n",
            "Epoch 11/1000\n",
            "272/272 [==============================] - 2s 6ms/step - loss: 0.6673 - val_loss: 0.6666\n",
            "Epoch 12/1000\n",
            "272/272 [==============================] - 2s 6ms/step - loss: 0.6679 - val_loss: 0.6686\n",
            "Epoch 13/1000\n",
            "272/272 [==============================] - 2s 6ms/step - loss: 0.6657 - val_loss: 0.6684\n",
            "Epoch 14/1000\n",
            "272/272 [==============================] - 2s 6ms/step - loss: 0.6626 - val_loss: 0.6651\n",
            "Epoch 15/1000\n",
            "272/272 [==============================] - 2s 6ms/step - loss: 0.6632 - val_loss: 0.6629\n",
            "Epoch 16/1000\n",
            "272/272 [==============================] - 2s 6ms/step - loss: 0.6617 - val_loss: 0.6596\n",
            "Epoch 17/1000\n",
            "272/272 [==============================] - 2s 6ms/step - loss: 0.6612 - val_loss: 0.6729\n",
            "Epoch 18/1000\n",
            "272/272 [==============================] - 2s 6ms/step - loss: 0.6627 - val_loss: 0.6676\n",
            "Epoch 19/1000\n",
            "272/272 [==============================] - 2s 6ms/step - loss: 0.6619 - val_loss: 0.6681\n",
            "Epoch 20/1000\n",
            "272/272 [==============================] - 2s 6ms/step - loss: 0.6608 - val_loss: 0.6648\n",
            "Epoch 21/1000\n",
            "272/272 [==============================] - 2s 6ms/step - loss: 0.6601 - val_loss: 0.6690\n",
            "Epoch 22/1000\n",
            "272/272 [==============================] - 2s 6ms/step - loss: 0.6598 - val_loss: 0.6703\n",
            "Epoch 23/1000\n",
            "272/272 [==============================] - 2s 6ms/step - loss: 0.6567 - val_loss: 0.6729\n",
            "Epoch 24/1000\n",
            "272/272 [==============================] - 2s 6ms/step - loss: 0.6609 - val_loss: 0.6661\n",
            "Epoch 25/1000\n",
            "272/272 [==============================] - 2s 6ms/step - loss: 0.6576 - val_loss: 0.6693\n",
            "Epoch 26/1000\n",
            "272/272 [==============================] - 2s 6ms/step - loss: 0.6563 - val_loss: 0.6696\n",
            "Epoch 27/1000\n",
            "272/272 [==============================] - 2s 6ms/step - loss: 0.6571 - val_loss: 0.6663\n",
            "Epoch 28/1000\n",
            "272/272 [==============================] - 2s 6ms/step - loss: 0.6571 - val_loss: 0.6729\n",
            "Epoch 29/1000\n",
            "272/272 [==============================] - 2s 6ms/step - loss: 0.6568 - val_loss: 0.6642\n",
            "Epoch 30/1000\n",
            "272/272 [==============================] - 2s 6ms/step - loss: 0.6581 - val_loss: 0.6746\n",
            "Epoch 31/1000\n",
            "272/272 [==============================] - 2s 6ms/step - loss: 0.6555 - val_loss: 0.6614\n",
            "Epoch 32/1000\n",
            "272/272 [==============================] - 2s 6ms/step - loss: 0.6548 - val_loss: 0.6638\n",
            "Epoch 33/1000\n",
            "272/272 [==============================] - 2s 6ms/step - loss: 0.6532 - val_loss: 0.6586\n",
            "Epoch 34/1000\n",
            "272/272 [==============================] - 2s 6ms/step - loss: 0.6543 - val_loss: 0.6555\n",
            "Epoch 35/1000\n",
            "272/272 [==============================] - 2s 6ms/step - loss: 0.6540 - val_loss: 0.6593\n",
            "Epoch 36/1000\n",
            "272/272 [==============================] - 2s 6ms/step - loss: 0.6504 - val_loss: 0.6631\n",
            "Epoch 37/1000\n",
            "272/272 [==============================] - 2s 6ms/step - loss: 0.6531 - val_loss: 0.6583\n",
            "Epoch 38/1000\n",
            "272/272 [==============================] - 2s 6ms/step - loss: 0.6534 - val_loss: 0.6486\n",
            "Epoch 39/1000\n",
            "272/272 [==============================] - 2s 6ms/step - loss: 0.6544 - val_loss: 0.6537\n",
            "Epoch 40/1000\n",
            "272/272 [==============================] - 2s 6ms/step - loss: 0.6544 - val_loss: 0.6511\n",
            "Epoch 41/1000\n",
            "272/272 [==============================] - 2s 6ms/step - loss: 0.6518 - val_loss: 0.6519\n",
            "Epoch 42/1000\n",
            "272/272 [==============================] - 2s 6ms/step - loss: 0.6531 - val_loss: 0.6637\n",
            "Epoch 43/1000\n",
            "272/272 [==============================] - 2s 6ms/step - loss: 0.6502 - val_loss: 0.6529\n",
            "Epoch 44/1000\n",
            "272/272 [==============================] - 2s 6ms/step - loss: 0.6516 - val_loss: 0.6599\n",
            "Epoch 45/1000\n",
            "272/272 [==============================] - 2s 6ms/step - loss: 0.6488 - val_loss: 0.6580\n",
            "Epoch 46/1000\n",
            "272/272 [==============================] - 2s 6ms/step - loss: 0.6486 - val_loss: 0.6580\n",
            "Epoch 47/1000\n",
            "272/272 [==============================] - 2s 6ms/step - loss: 0.6483 - val_loss: 0.6621\n",
            "Epoch 48/1000\n",
            "272/272 [==============================] - 2s 6ms/step - loss: 0.6487 - val_loss: 0.6585\n",
            "Epoch 49/1000\n",
            "272/272 [==============================] - 2s 6ms/step - loss: 0.6502 - val_loss: 0.6581\n",
            "Epoch 50/1000\n",
            "272/272 [==============================] - 2s 6ms/step - loss: 0.6493 - val_loss: 0.6525\n",
            "Epoch 51/1000\n",
            "272/272 [==============================] - 2s 6ms/step - loss: 0.6463 - val_loss: 0.6515\n",
            "Epoch 52/1000\n",
            "272/272 [==============================] - 2s 6ms/step - loss: 0.6471 - val_loss: 0.6476\n",
            "Epoch 53/1000\n",
            "272/272 [==============================] - 2s 6ms/step - loss: 0.6461 - val_loss: 0.6547\n",
            "Epoch 54/1000\n",
            "272/272 [==============================] - 2s 6ms/step - loss: 0.6461 - val_loss: 0.6544\n",
            "Epoch 55/1000\n",
            "272/272 [==============================] - 2s 6ms/step - loss: 0.6462 - val_loss: 0.6420\n",
            "Epoch 56/1000\n",
            "272/272 [==============================] - 2s 6ms/step - loss: 0.6459 - val_loss: 0.6430\n",
            "Epoch 57/1000\n",
            "272/272 [==============================] - 2s 6ms/step - loss: 0.6452 - val_loss: 0.6532\n",
            "Epoch 58/1000\n",
            "272/272 [==============================] - 2s 6ms/step - loss: 0.6438 - val_loss: 0.6449\n",
            "Epoch 59/1000\n",
            "272/272 [==============================] - 2s 6ms/step - loss: 0.6456 - val_loss: 0.6547\n",
            "Epoch 60/1000\n",
            "272/272 [==============================] - 2s 6ms/step - loss: 0.6469 - val_loss: 0.6523\n",
            "Epoch 61/1000\n",
            "272/272 [==============================] - 2s 6ms/step - loss: 0.6450 - val_loss: 0.6494\n",
            "Epoch 62/1000\n",
            "272/272 [==============================] - 2s 6ms/step - loss: 0.6466 - val_loss: 0.6484\n",
            "Epoch 63/1000\n",
            "272/272 [==============================] - 2s 6ms/step - loss: 0.6441 - val_loss: 0.6482\n",
            "Epoch 64/1000\n",
            "272/272 [==============================] - 2s 6ms/step - loss: 0.6446 - val_loss: 0.6496\n",
            "Epoch 65/1000\n",
            "272/272 [==============================] - 2s 6ms/step - loss: 0.6443 - val_loss: 0.6490\n",
            "Epoch 66/1000\n",
            "272/272 [==============================] - 2s 6ms/step - loss: 0.6454 - val_loss: 0.6453\n",
            "Epoch 67/1000\n",
            "272/272 [==============================] - 2s 6ms/step - loss: 0.6416 - val_loss: 0.6411\n",
            "Epoch 68/1000\n",
            "272/272 [==============================] - 2s 6ms/step - loss: 0.6432 - val_loss: 0.6492\n",
            "Epoch 69/1000\n",
            "272/272 [==============================] - 2s 6ms/step - loss: 0.6421 - val_loss: 0.6462\n",
            "Epoch 70/1000\n",
            "272/272 [==============================] - 2s 6ms/step - loss: 0.6423 - val_loss: 0.6430\n",
            "Epoch 71/1000\n",
            "272/272 [==============================] - 2s 6ms/step - loss: 0.6418 - val_loss: 0.6463\n",
            "Epoch 72/1000\n",
            "272/272 [==============================] - 2s 6ms/step - loss: 0.6425 - val_loss: 0.6501\n",
            "Epoch 73/1000\n",
            "272/272 [==============================] - 2s 6ms/step - loss: 0.6417 - val_loss: 0.6554\n",
            "Epoch 74/1000\n",
            "272/272 [==============================] - 2s 6ms/step - loss: 0.6402 - val_loss: 0.6459\n",
            "Epoch 75/1000\n",
            "272/272 [==============================] - 2s 6ms/step - loss: 0.6389 - val_loss: 0.6354\n",
            "Epoch 76/1000\n",
            "272/272 [==============================] - 2s 6ms/step - loss: 0.6424 - val_loss: 0.6388\n",
            "Epoch 77/1000\n",
            "272/272 [==============================] - 2s 6ms/step - loss: 0.6406 - val_loss: 0.6371\n",
            "Epoch 78/1000\n",
            "272/272 [==============================] - 2s 6ms/step - loss: 0.6407 - val_loss: 0.6430\n",
            "Epoch 79/1000\n",
            "272/272 [==============================] - 2s 6ms/step - loss: 0.6395 - val_loss: 0.6492\n",
            "Epoch 80/1000\n",
            "272/272 [==============================] - 2s 6ms/step - loss: 0.6408 - val_loss: 0.6411\n",
            "Epoch 81/1000\n",
            "272/272 [==============================] - 2s 6ms/step - loss: 0.6408 - val_loss: 0.6452\n",
            "Epoch 82/1000\n",
            "272/272 [==============================] - 2s 6ms/step - loss: 0.6404 - val_loss: 0.6417\n",
            "Epoch 83/1000\n",
            "272/272 [==============================] - 2s 6ms/step - loss: 0.6396 - val_loss: 0.6426\n",
            "Epoch 84/1000\n",
            "272/272 [==============================] - 2s 6ms/step - loss: 0.6410 - val_loss: 0.6420\n",
            "Epoch 85/1000\n",
            "272/272 [==============================] - 2s 6ms/step - loss: 0.6370 - val_loss: 0.6470\n",
            "Epoch 86/1000\n",
            "272/272 [==============================] - 2s 6ms/step - loss: 0.6403 - val_loss: 0.6493\n",
            "Epoch 87/1000\n",
            "272/272 [==============================] - 2s 6ms/step - loss: 0.6386 - val_loss: 0.6393\n",
            "Epoch 88/1000\n",
            "272/272 [==============================] - 2s 6ms/step - loss: 0.6389 - val_loss: 0.6422\n",
            "Epoch 89/1000\n",
            "272/272 [==============================] - 2s 6ms/step - loss: 0.6413 - val_loss: 0.6524\n",
            "Epoch 90/1000\n",
            "272/272 [==============================] - 2s 6ms/step - loss: 0.6394 - val_loss: 0.6430\n",
            "Epoch 91/1000\n",
            "272/272 [==============================] - 2s 6ms/step - loss: 0.6401 - val_loss: 0.6409\n",
            "Epoch 92/1000\n",
            "272/272 [==============================] - 2s 6ms/step - loss: 0.6384 - val_loss: 0.6443\n",
            "Epoch 93/1000\n",
            "272/272 [==============================] - 2s 6ms/step - loss: 0.6366 - val_loss: 0.6442\n",
            "Epoch 94/1000\n",
            "272/272 [==============================] - 2s 6ms/step - loss: 0.6372 - val_loss: 0.6447\n",
            "Epoch 95/1000\n",
            "272/272 [==============================] - 2s 6ms/step - loss: 0.6397 - val_loss: 0.6631\n",
            "Epoch 96/1000\n",
            "272/272 [==============================] - 2s 6ms/step - loss: 0.6389 - val_loss: 0.6474\n",
            "Epoch 97/1000\n",
            "272/272 [==============================] - 2s 6ms/step - loss: 0.6391 - val_loss: 0.6493\n",
            "Epoch 98/1000\n",
            "272/272 [==============================] - 2s 6ms/step - loss: 0.6380 - val_loss: 0.6507\n",
            "Epoch 99/1000\n",
            "272/272 [==============================] - 2s 6ms/step - loss: 0.6383 - val_loss: 0.6528\n",
            "Epoch 100/1000\n",
            "272/272 [==============================] - 2s 6ms/step - loss: 0.6387 - val_loss: 0.6497\n",
            "Epoch 00100: early stopping\n"
          ]
        },
        {
          "output_type": "execute_result",
          "data": {
            "text/plain": [
              "<keras.callbacks.History at 0x7f724c6a4790>"
            ]
          },
          "metadata": {},
          "execution_count": 79
        }
      ]
    },
    {
      "cell_type": "code",
      "source": [
        "pd.DataFrame(model.history.history).plot()"
      ],
      "metadata": {
        "colab": {
          "base_uri": "https://localhost:8080/",
          "height": 283
        },
        "id": "fbTlULV47Qid",
        "outputId": "49b72ea3-3ec4-4e31-8758-224723b14b22"
      },
      "id": "fbTlULV47Qid",
      "execution_count": null,
      "outputs": [
        {
          "output_type": "execute_result",
          "data": {
            "text/plain": [
              "<matplotlib.axes._subplots.AxesSubplot at 0x7f724c62dbd0>"
            ]
          },
          "metadata": {},
          "execution_count": 80
        },
        {
          "output_type": "display_data",
          "data": {
            "image/png": "[encoded data removed]",
            "text/plain": [
              "<Figure size 432x288 with 1 Axes>"
            ]
          },
          "metadata": {
            "needs_background": "light"
          }
        }
      ]
    },
    {
      "cell_type": "code",
      "source": [
        "model.evaluate(X_test, y_test, verbose=0)"
      ],
      "metadata": {
        "colab": {
          "base_uri": "https://localhost:8080/"
        },
        "id": "mk0sFOpK7Qbv",
        "outputId": "2877f291-2712-4589-eebf-bb46d36d1107"
      },
      "id": "mk0sFOpK7Qbv",
      "execution_count": null,
      "outputs": [
        {
          "output_type": "execute_result",
          "data": {
            "text/plain": [
              "0.6497264504432678"
            ]
          },
          "metadata": {},
          "execution_count": 81
        }
      ]
    },
    {
      "cell_type": "code",
      "source": [
        "model.evaluate(X_train, y_train, verbose=0)"
      ],
      "metadata": {
        "colab": {
          "base_uri": "https://localhost:8080/"
        },
        "id": "i9ek93qp8lsm",
        "outputId": "7bb92a1c-7ddf-4984-dc16-8e8ef2a6c7be"
      },
      "id": "i9ek93qp8lsm",
      "execution_count": null,
      "outputs": [
        {
          "output_type": "execute_result",
          "data": {
            "text/plain": [
              "0.626147985458374"
            ]
          },
          "metadata": {},
          "execution_count": 82
        }
      ]
    },
    {
      "cell_type": "code",
      "source": [
        "test_predictions = model.predict(X_test)\n",
        "test_predictions = pd.Series(test_predictions.reshape(14895,))\n",
        "pred_df = pd.DataFrame(y_test)#, columns=['Test True Y'])\n",
        "pred_df = pd.concat([pred_df, test_predictions], axis=1)\n",
        "pred_df.columns = ['Test_true_Y',\"Model_predictions\"]"
      ],
      "metadata": {
        "id": "ntebj3_ZC84X"
      },
      "id": "ntebj3_ZC84X",
      "execution_count": null,
      "outputs": []
    },
    {
      "cell_type": "code",
      "source": [
        "print('Relação MAE média: ',\n",
        "      mean_absolute_error(pred_df['Test_true_Y'], pred_df['Model_predictions']),#/test2.Open.mean()*100, 2),\"%\",\n",
        "      '\\nMSE: ',mean_squared_error(pred_df['Test_true_Y'], pred_df['Model_predictions']),\n",
        "      '\\nRMSE: ',mean_squared_error(pred_df['Test_true_Y'], pred_df['Model_predictions'])**0.5              \n",
        "  )"
      ],
      "metadata": {
        "colab": {
          "base_uri": "https://localhost:8080/"
        },
        "id": "GHwjcg_t8llN",
        "outputId": "b4be0384-27b1-4743-c20c-a42a8fd7590c"
      },
      "id": "GHwjcg_t8llN",
      "execution_count": null,
      "outputs": [
        {
          "output_type": "stream",
          "name": "stdout",
          "text": [
            "Relação MAE média:  0.4629381655066075 \n",
            "MSE:  0.22495576736453493 \n",
            "RMSE:  0.47429502144186053\n"
          ]
        }
      ]
    },
    {
      "cell_type": "code",
      "source": [
        "print(classification_report(np.round(test_predictions),y_test))"
      ],
      "metadata": {
        "colab": {
          "base_uri": "https://localhost:8080/"
        },
        "id": "7FJxAD6Q1hND",
        "outputId": "c6bbcfa5-c306-4249-def6-9079bafd7bf9"
      },
      "id": "7FJxAD6Q1hND",
      "execution_count": null,
      "outputs": [
        {
          "output_type": "stream",
          "name": "stdout",
          "text": [
            "              precision    recall  f1-score   support\n",
            "\n",
            "         0.0       0.80      0.63      0.70      9610\n",
            "         1.0       0.52      0.72      0.60      5285\n",
            "\n",
            "    accuracy                           0.66     14895\n",
            "   macro avg       0.66      0.67      0.65     14895\n",
            "weighted avg       0.70      0.66      0.67     14895\n",
            "\n"
          ]
        }
      ]
    },
    {
      "cell_type": "code",
      "source": [
        "print(confusion_matrix(np.round(test_predictions),y_test))"
      ],
      "metadata": {
        "colab": {
          "base_uri": "https://localhost:8080/"
        },
        "id": "UEX3rKY91pfT",
        "outputId": "02ed4d77-f6b6-4196-c8bc-e3ba4120c4c5"
      },
      "id": "UEX3rKY91pfT",
      "execution_count": null,
      "outputs": [
        {
          "output_type": "stream",
          "name": "stdout",
          "text": [
            "[[6008 3602]\n",
            " [1457 3828]]\n"
          ]
        }
      ]
    },
    {
      "cell_type": "code",
      "source": [
        "pred_df.Model_predictions = pred_df.Model_predictions.apply(lambda x: np.round(x))"
      ],
      "metadata": {
        "id": "JBGFWahnWw7-"
      },
      "id": "JBGFWahnWw7-",
      "execution_count": null,
      "outputs": []
    },
    {
      "cell_type": "code",
      "source": [
        "pred_df.sample(10)"
      ],
      "metadata": {
        "colab": {
          "base_uri": "https://localhost:8080/",
          "height": 363
        },
        "id": "_z77yhdZYB4X",
        "outputId": "f99fd1e2-df20-417e-c756-3e77f9ae5d14"
      },
      "id": "_z77yhdZYB4X",
      "execution_count": null,
      "outputs": [
        {
          "output_type": "execute_result",
          "data": {
            "text/html": [
              "\n",
              "  <div id=\"df-8f503b58-0ab1-4f03-a140-37e468bbc8be\">\n",
              "    <div class=\"colab-df-container\">\n",
              "      <div>\n",
              "<style scoped>\n",
              "    .dataframe tbody tr th:only-of-type {\n",
              "        vertical-align: middle;\n",
              "    }\n",
              "\n",
              "    .dataframe tbody tr th {\n",
              "        vertical-align: top;\n",
              "    }\n",
              "\n",
              "    .dataframe thead th {\n",
              "        text-align: right;\n",
              "    }\n",
              "</style>\n",
              "<table border=\"1\" class=\"dataframe\">\n",
              "  <thead>\n",
              "    <tr style=\"text-align: right;\">\n",
              "      <th></th>\n",
              "      <th>Test_true_Y</th>\n",
              "      <th>Model_predictions</th>\n",
              "    </tr>\n",
              "  </thead>\n",
              "  <tbody>\n",
              "    <tr>\n",
              "      <th>13255</th>\n",
              "      <td>0</td>\n",
              "      <td>0.0</td>\n",
              "    </tr>\n",
              "    <tr>\n",
              "      <th>12417</th>\n",
              "      <td>1</td>\n",
              "      <td>1.0</td>\n",
              "    </tr>\n",
              "    <tr>\n",
              "      <th>13774</th>\n",
              "      <td>1</td>\n",
              "      <td>1.0</td>\n",
              "    </tr>\n",
              "    <tr>\n",
              "      <th>11942</th>\n",
              "      <td>0</td>\n",
              "      <td>0.0</td>\n",
              "    </tr>\n",
              "    <tr>\n",
              "      <th>9472</th>\n",
              "      <td>0</td>\n",
              "      <td>0.0</td>\n",
              "    </tr>\n",
              "    <tr>\n",
              "      <th>12793</th>\n",
              "      <td>1</td>\n",
              "      <td>0.0</td>\n",
              "    </tr>\n",
              "    <tr>\n",
              "      <th>2200</th>\n",
              "      <td>0</td>\n",
              "      <td>0.0</td>\n",
              "    </tr>\n",
              "    <tr>\n",
              "      <th>9063</th>\n",
              "      <td>0</td>\n",
              "      <td>0.0</td>\n",
              "    </tr>\n",
              "    <tr>\n",
              "      <th>3167</th>\n",
              "      <td>1</td>\n",
              "      <td>1.0</td>\n",
              "    </tr>\n",
              "    <tr>\n",
              "      <th>7188</th>\n",
              "      <td>0</td>\n",
              "      <td>0.0</td>\n",
              "    </tr>\n",
              "  </tbody>\n",
              "</table>\n",
              "</div>\n",
              "      <button class=\"colab-df-convert\" onclick=\"convertToInteractive('df-8f503b58-0ab1-4f03-a140-37e468bbc8be')\"\n",
              "              title=\"Convert this dataframe to an interactive table.\"\n",
              "              style=\"display:none;\">\n",
              "        \n",
              "  <svg xmlns=\"http://www.w3.org/2000/svg\" height=\"24px\"viewBox=\"0 0 24 24\"\n",
              "       width=\"24px\">\n",
              "    <path d=\"M0 0h24v24H0V0z\" fill=\"none\"/>\n",
              "    <path d=\"M18.56 5.44l.94 2.06.94-2.06 2.06-.94-2.06-.94-.94-2.06-.94 2.06-2.06.94zm-11 1L8.5 8.5l.94-2.06 2.06-.94-2.06-.94L8.5 2.5l-.94 2.06-2.06.94zm10 10l.94 2.06.94-2.06 2.06-.94-2.06-.94-.94-2.06-.94 2.06-2.06.94z\"/><path d=\"M17.41 7.96l-1.37-1.37c-.4-.4-.92-.59-1.43-.59-.52 0-1.04.2-1.43.59L10.3 9.45l-7.72 7.72c-.78.78-.78 2.05 0 2.83L4 21.41c.39.39.9.59 1.41.59.51 0 1.02-.2 1.41-.59l7.78-7.78 2.81-2.81c.8-.78.8-2.07 0-2.86zM5.41 20L4 18.59l7.72-7.72 1.47 1.35L5.41 20z\"/>\n",
              "  </svg>\n",
              "      </button>\n",
              "      \n",
              "  <style>\n",
              "    .colab-df-container {\n",
              "      display:flex;\n",
              "      flex-wrap:wrap;\n",
              "      gap: 12px;\n",
              "    }\n",
              "\n",
              "    .colab-df-convert {\n",
              "      background-color: #E8F0FE;\n",
              "      border: none;\n",
              "      border-radius: 50%;\n",
              "      cursor: pointer;\n",
              "      display: none;\n",
              "      fill: #1967D2;\n",
              "      height: 32px;\n",
              "      padding: 0 0 0 0;\n",
              "      width: 32px;\n",
              "    }\n",
              "\n",
              "    .colab-df-convert:hover {\n",
              "      background-color: #E2EBFA;\n",
              "      box-shadow: 0px 1px 2px rgba(60, 64, 67, 0.3), 0px 1px 3px 1px rgba(60, 64, 67, 0.15);\n",
              "      fill: #174EA6;\n",
              "    }\n",
              "\n",
              "    [theme=dark] .colab-df-convert {\n",
              "      background-color: #3B4455;\n",
              "      fill: #D2E3FC;\n",
              "    }\n",
              "\n",
              "    [theme=dark] .colab-df-convert:hover {\n",
              "      background-color: #434B5C;\n",
              "      box-shadow: 0px 1px 3px 1px rgba(0, 0, 0, 0.15);\n",
              "      filter: drop-shadow(0px 1px 2px rgba(0, 0, 0, 0.3));\n",
              "      fill: #FFFFFF;\n",
              "    }\n",
              "  </style>\n",
              "\n",
              "      <script>\n",
              "        const buttonEl =\n",
              "          document.querySelector('#df-8f503b58-0ab1-4f03-a140-37e468bbc8be button.colab-df-convert');\n",
              "        buttonEl.style.display =\n",
              "          google.colab.kernel.accessAllowed ? 'block' : 'none';\n",
              "\n",
              "        async function convertToInteractive(key) {\n",
              "          const element = document.querySelector('#df-8f503b58-0ab1-4f03-a140-37e468bbc8be');\n",
              "          const dataTable =\n",
              "            await google.colab.kernel.invokeFunction('convertToInteractive',\n",
              "                                                     [key], {});\n",
              "          if (!dataTable) return;\n",
              "\n",
              "          const docLinkHtml = 'Like what you see? Visit the ' +\n",
              "            '<a target=\"_blank\" href=https://colab.research.google.com/notebooks/data_table.ipynb>data table notebook</a>'\n",
              "            + ' to learn more about interactive tables.';\n",
              "          element.innerHTML = '';\n",
              "          dataTable['output_type'] = 'display_data';\n",
              "          await google.colab.output.renderOutput(dataTable, element);\n",
              "          const docLink = document.createElement('div');\n",
              "          docLink.innerHTML = docLinkHtml;\n",
              "          element.appendChild(docLink);\n",
              "        }\n",
              "      </script>\n",
              "    </div>\n",
              "  </div>\n",
              "  "
            ],
            "text/plain": [
              "       Test_true_Y  Model_predictions\n",
              "13255  0            0.0              \n",
              "12417  1            1.0              \n",
              "13774  1            1.0              \n",
              "11942  0            0.0              \n",
              "9472   0            0.0              \n",
              "12793  1            0.0              \n",
              "2200   0            0.0              \n",
              "9063   0            0.0              \n",
              "3167   1            1.0              \n",
              "7188   0            0.0              "
            ]
          },
          "metadata": {},
          "execution_count": 88
        }
      ]
    },
    {
      "cell_type": "code",
      "source": [
        "#Test new value\n",
        "new = [['260','40000000000']]\n",
        "new = scaler.transform(new)\n",
        "print(model.predict(new))"
      ],
      "metadata": {
        "id": "mAQa8bHM8lbi"
      },
      "id": "mAQa8bHM8lbi",
      "execution_count": null,
      "outputs": []
    },
    {
      "cell_type": "code",
      "source": [
        "#Optimization\n",
        "\n",
        "#explained_variance_score(y_test, predictions)\n",
        "#1.0 good, 0 poor\n",
        "\n",
        "#plt,figure"
      ],
      "metadata": {
        "id": "1PcQJSHq7P94"
      },
      "id": "1PcQJSHq7P94",
      "execution_count": null,
      "outputs": []
    }
  ],
  "metadata": {
    "kernelspec": {
      "display_name": "Python 3",
      "language": "python",
      "name": "python3"
    },
    "language_info": {
      "codemirror_mode": {
        "name": "ipython",
        "version": 3
      },
      "file_extension": ".py",
      "mimetype": "text/x-python",
      "name": "python",
      "nbconvert_exporter": "python",
      "pygments_lexer": "ipython3",
      "version": "3.8.8"
    },
    "colab": {
      "name": "analytics_final.ipynb",
      "provenance": [],
      "collapsed_sections": [],
      "include_colab_link": true
    }
  },
  "nbformat": 4,
  "nbformat_minor": 5
}